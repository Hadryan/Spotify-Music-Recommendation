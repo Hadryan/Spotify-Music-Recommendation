{
 "cells": [
  {
   "cell_type": "code",
   "execution_count": 11,
   "metadata": {},
   "outputs": [],
   "source": [
    "import math\n",
    "\n",
    "def r_precision(R, G):\n",
    "    '''\n",
    "        Precision for to sets R & G (R-precision = |G ^ R | / |G|)\n",
    "        @param: \n",
    "            R: a 'set' of recommendation songs  for the playlist giving some seen tracks\n",
    "            G: a 'set' of the hidden of tracks in the playlist (in the test set)\n",
    "        @ return: the relevant precision score for the recommendation system for this playlist\n",
    "            \n",
    "    '''\n",
    "    \n",
    "    # intersection return a new set with elements that are common to all sets.\n",
    "    return len(R.intersection(G)) / len(G)\n",
    "\n",
    "# Discounted Cumulative Gain (DCG)\n",
    "def DCG(rec_scores):\n",
    "    if sum(rec_scores) == 0:\n",
    "        return 0\n",
    "    \n",
    "    rec_scores = [r / sum(rec_scores) for r in rec_scores]\n",
    "    \n",
    "    dcg = rec_scores[0]\n",
    "    \n",
    "    for i in range(1, len(rec_scores)):\n",
    "        # log2(i+1) because our array is zero-based, DCG is one-based from a math formula\n",
    "        dcg += (rec_scores[i] / math.log2(i+1))\n",
    "    \n",
    "    return dcg\n",
    "\n",
    "# The Ideal Discounted Cumulative Gain (IDCG) is the DCG in perfect scenario where R = G\n",
    "def IDCG(G):\n",
    "    n = len(G)\n",
    "    \n",
    "    idcg = 1 \n",
    "    \n",
    "    for i in range(1, n):\n",
    "        idcg += (1 / math.log2(i + 1))\n",
    "    \n",
    "    return idcg\n",
    "\n",
    "def NDCG(recommendations, G):\n",
    "    dcg = DCG([r[1] for r in recommendations])\n",
    "    idcg = IDCG(G)\n",
    "    \n",
    "    return dcg / idcg"
   ]
  },
  {
   "cell_type": "code",
   "execution_count": 5,
   "metadata": {},
   "outputs": [],
   "source": []
  },
  {
   "cell_type": "code",
   "execution_count": null,
   "metadata": {},
   "outputs": [],
   "source": []
  }
 ],
 "metadata": {
  "kernelspec": {
   "display_name": "Python 3",
   "language": "python",
   "name": "python3"
  },
  "language_info": {
   "codemirror_mode": {
    "name": "ipython",
    "version": 3
   },
   "file_extension": ".py",
   "mimetype": "text/x-python",
   "name": "python",
   "nbconvert_exporter": "python",
   "pygments_lexer": "ipython3",
   "version": "3.8.3"
  }
 },
 "nbformat": 4,
 "nbformat_minor": 4
}
