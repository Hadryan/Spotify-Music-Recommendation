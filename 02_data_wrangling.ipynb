{
 "cells": [
  {
   "cell_type": "markdown",
   "metadata": {},
   "source": [
    "# 2 Data wrangling<a id='2_Data_wrangling'></a>"
   ]
  },
  {
   "cell_type": "markdown",
   "metadata": {},
   "source": [
    "## 2.1 Contents<a id='2.1_Contents'></a>\n",
    "* [2 Data wrangling](#2_Data_wrangling)\n",
    "  * [2.1 Contents](#2.1_Contents)\n",
    "  * [2.2 Introduction](#2.2_Introduction)\n",
    "  * [2.3 Imports](#2.3_Imports)\n",
    "  * [2.4 Objectives](#2.4_Objectives)\n",
    "  * [2.5 Load The Spotify User Playlist Data](#2.5_Load_The_Spotify_User_Playlist_Data)\n",
    "  * [2.6 Explore The Data](#2.6_Explore_The_Data)\n",
    "    * [2.6.1 Find A_Playlist Of Interest](#2.6.1_Find_A_Playlist_Of_Interest)\n",
    "    * [2.6.2 Number Of Missing Values By Column](#2.6.2_Number_Of_Missing_Values_By_Column)\n",
    "    * [2.6.3 Categorical Features](#2.6.3_Categorical_Features)\n",
    "      * [2.6.3.1 Unique Playlist Names](#2.6.3.1_Unique_Playlist_Names)\n",
    "      * [2.6.3.2 Unique Track Names](#2.6.3.2_Unique_Track_Names)\n",
    "    * [2.6.4 Numeric Features](#2.6.4_Numeric_Features)\n",
    "      * [2.6.4.1 Numeric data summary](#2.6.4.1_Numeric_data_summary)\n",
    "      * [2.6.4.2 Distributions Of Feature Values](#2.6.4.2_Distributions_Of_Feature_Values)"
   ]
  },
  {
   "cell_type": "markdown",
   "metadata": {},
   "source": [
    "## 2.2 Introduction<a id='2.2_Introduction'></a>"
   ]
  },
  {
   "cell_type": "markdown",
   "metadata": {},
   "source": [
    "This data science project's goal is to create a music recommendation model for Spotify users. Spotify hopes to improve user experience by recommending tracks that are a good fit for each user via its music recommendation algorithm. The company receives many music playlists from its users and wishes to use the information to predict which songs will appear on the user's playlist. This project aims to build a recommendation model for music track based on playlist name, number of tracks in the playlist, number of playlist followers, number of edits, number of albums, song name, album name, artist name, and playlist duration. This model will be used to guide Spotify in improving their user music experience and interaction on the app.\n"
   ]
  },
  {
   "cell_type": "markdown",
   "metadata": {},
   "source": [
    "## 2.3 Imports<a id='2.3_Imports'></a>"
   ]
  },
  {
   "cell_type": "code",
   "execution_count": 1,
   "metadata": {},
   "outputs": [],
   "source": [
    "import json\n",
    "import pandas as pd\n",
    "import matplotlib.pyplot as plt\n",
    "import seaborn as sns\n",
    "import os\n",
    "import glob, collections\n"
   ]
  },
  {
   "cell_type": "markdown",
   "metadata": {},
   "source": [
    "## 2.4 Objectives<a id='2.4_Objectives'></a>"
   ]
  },
  {
   "cell_type": "markdown",
   "metadata": {},
   "source": [
    "\n",
    "* The data need for this music recommendation can be:\n",
    "    * Songs information in each playlists\n",
    "    * Playlist length and its follower\n",
    "    \n",
    "* There are no fundamental issue about this data. This tracks data is nested inside each playlist, so this dataset may need to reorganize."
   ]
  },
  {
   "cell_type": "markdown",
   "metadata": {},
   "source": [
    "## 2.5 Load The Spotify User Playlist Data<a id='2.5_Load_The_Spotify_User_Playlist_Data'></a>"
   ]
  },
  {
   "cell_type": "markdown",
   "metadata": {},
   "source": [
    "### Loading data for 20,000 playlists from json files"
   ]
  },
  {
   "cell_type": "code",
   "execution_count": 2,
   "metadata": {},
   "outputs": [],
   "source": [
    "read_files = glob.glob(\"spotify_million_playlist_dataset/data/*.json\")\n",
    "df = pd.DataFrame()\n",
    "\n",
    "for f in read_files:\n",
    "    with open(f, \"rb\") as infile:\n",
    "        data = json.load(infile)\n",
    "        each_json_file = pd.DataFrame(data['playlists'])\n",
    "        df = df.append(each_json_file)"
   ]
  },
  {
   "cell_type": "code",
   "execution_count": 3,
   "metadata": {},
   "outputs": [
    {
     "name": "stdout",
     "output_type": "stream",
     "text": [
      "Number of playlists:  20000\n"
     ]
    }
   ],
   "source": [
    "print(\"Number of playlists: \" , len(df))"
   ]
  },
  {
   "cell_type": "code",
   "execution_count": 4,
   "metadata": {},
   "outputs": [
    {
     "data": {
      "text/plain": [
       "<bound method DataFrame.info of                 name collaborative    pid  modified_at  num_tracks  \\\n",
       "0             NewNew         false   7000   1509321600          83   \n",
       "1           chilllll         false   7001   1506902400          18   \n",
       "2           offline          false   7002   1505433600          63   \n",
       "3              feels         false   7003   1508284800          97   \n",
       "4        Latin Dance         false   7004   1489795200          23   \n",
       "..               ...           ...    ...          ...         ...   \n",
       "995      Punk Covers         false  12995   1505865600          35   \n",
       "996              NYE         false  12996   1507766400          87   \n",
       "997  Reception Music         false  12997   1506038400         110   \n",
       "998        Sad Music         false  12998   1505520000          54   \n",
       "999             Calm         false  12999   1444780800          14   \n",
       "\n",
       "     num_albums  num_followers  \\\n",
       "0            78              2   \n",
       "1            15              1   \n",
       "2            48              1   \n",
       "3            51              1   \n",
       "4            20              1   \n",
       "..          ...            ...   \n",
       "995          29              1   \n",
       "996          84              1   \n",
       "997          88              1   \n",
       "998          49              1   \n",
       "999          14              1   \n",
       "\n",
       "                                                tracks  num_edits  \\\n",
       "0    [{'pos': 0, 'artist_name': 'WILDES', 'track_ur...         49   \n",
       "1    [{'pos': 0, 'artist_name': 'Angus & Julia Ston...          8   \n",
       "2    [{'pos': 0, 'artist_name': 'Keith Urban', 'tra...         16   \n",
       "3    [{'pos': 0, 'artist_name': 'Chance The Rapper'...         20   \n",
       "4    [{'pos': 0, 'artist_name': 'Merengue Latin Ban...          3   \n",
       "..                                                 ...        ...   \n",
       "995  [{'pos': 0, 'artist_name': 'New Found Glory', ...          6   \n",
       "996  [{'pos': 0, 'artist_name': 'P!nk', 'track_uri'...         12   \n",
       "997  [{'pos': 0, 'artist_name': 'Vance Joy', 'track...          8   \n",
       "998  [{'pos': 0, 'artist_name': 'A Great Big World'...          4   \n",
       "999  [{'pos': 0, 'artist_name': 'Jason Mraz', 'trac...          4   \n",
       "\n",
       "     duration_ms  num_artists description  \n",
       "0       18461552           72         NaN  \n",
       "1        4031475           10         NaN  \n",
       "2       15021695           45         NaN  \n",
       "3       24751320           27         NaN  \n",
       "4        5989994           11         NaN  \n",
       "..           ...          ...         ...  \n",
       "995      7588732           29         NaN  \n",
       "996     21532376           72         NaN  \n",
       "997     25968977           73         NaN  \n",
       "998     13075328           40         NaN  \n",
       "999      3454627           12         NaN  \n",
       "\n",
       "[20000 rows x 12 columns]>"
      ]
     },
     "execution_count": 4,
     "metadata": {},
     "output_type": "execute_result"
    }
   ],
   "source": [
    "# See a summary of the data\n",
    "df.info"
   ]
  },
  {
   "cell_type": "code",
   "execution_count": 5,
   "metadata": {},
   "outputs": [
    {
     "data": {
      "text/html": [
       "<div>\n",
       "<style scoped>\n",
       "    .dataframe tbody tr th:only-of-type {\n",
       "        vertical-align: middle;\n",
       "    }\n",
       "\n",
       "    .dataframe tbody tr th {\n",
       "        vertical-align: top;\n",
       "    }\n",
       "\n",
       "    .dataframe thead th {\n",
       "        text-align: right;\n",
       "    }\n",
       "</style>\n",
       "<table border=\"1\" class=\"dataframe\">\n",
       "  <thead>\n",
       "    <tr style=\"text-align: right;\">\n",
       "      <th></th>\n",
       "      <th>name</th>\n",
       "      <th>collaborative</th>\n",
       "      <th>pid</th>\n",
       "      <th>modified_at</th>\n",
       "      <th>num_tracks</th>\n",
       "      <th>num_albums</th>\n",
       "      <th>num_followers</th>\n",
       "      <th>tracks</th>\n",
       "      <th>num_edits</th>\n",
       "      <th>duration_ms</th>\n",
       "      <th>num_artists</th>\n",
       "      <th>description</th>\n",
       "    </tr>\n",
       "  </thead>\n",
       "  <tbody>\n",
       "    <tr>\n",
       "      <th>0</th>\n",
       "      <td>NewNew</td>\n",
       "      <td>false</td>\n",
       "      <td>7000</td>\n",
       "      <td>1509321600</td>\n",
       "      <td>83</td>\n",
       "      <td>78</td>\n",
       "      <td>2</td>\n",
       "      <td>[{'pos': 0, 'artist_name': 'WILDES', 'track_ur...</td>\n",
       "      <td>49</td>\n",
       "      <td>18461552</td>\n",
       "      <td>72</td>\n",
       "      <td>NaN</td>\n",
       "    </tr>\n",
       "    <tr>\n",
       "      <th>1</th>\n",
       "      <td>chilllll</td>\n",
       "      <td>false</td>\n",
       "      <td>7001</td>\n",
       "      <td>1506902400</td>\n",
       "      <td>18</td>\n",
       "      <td>15</td>\n",
       "      <td>1</td>\n",
       "      <td>[{'pos': 0, 'artist_name': 'Angus &amp; Julia Ston...</td>\n",
       "      <td>8</td>\n",
       "      <td>4031475</td>\n",
       "      <td>10</td>\n",
       "      <td>NaN</td>\n",
       "    </tr>\n",
       "    <tr>\n",
       "      <th>2</th>\n",
       "      <td>offline</td>\n",
       "      <td>false</td>\n",
       "      <td>7002</td>\n",
       "      <td>1505433600</td>\n",
       "      <td>63</td>\n",
       "      <td>48</td>\n",
       "      <td>1</td>\n",
       "      <td>[{'pos': 0, 'artist_name': 'Keith Urban', 'tra...</td>\n",
       "      <td>16</td>\n",
       "      <td>15021695</td>\n",
       "      <td>45</td>\n",
       "      <td>NaN</td>\n",
       "    </tr>\n",
       "  </tbody>\n",
       "</table>\n",
       "</div>"
      ],
      "text/plain": [
       "       name collaborative   pid  modified_at  num_tracks  num_albums  \\\n",
       "0    NewNew         false  7000   1509321600          83          78   \n",
       "1  chilllll         false  7001   1506902400          18          15   \n",
       "2  offline          false  7002   1505433600          63          48   \n",
       "\n",
       "   num_followers                                             tracks  \\\n",
       "0              2  [{'pos': 0, 'artist_name': 'WILDES', 'track_ur...   \n",
       "1              1  [{'pos': 0, 'artist_name': 'Angus & Julia Ston...   \n",
       "2              1  [{'pos': 0, 'artist_name': 'Keith Urban', 'tra...   \n",
       "\n",
       "   num_edits  duration_ms  num_artists description  \n",
       "0         49     18461552           72         NaN  \n",
       "1          8      4031475           10         NaN  \n",
       "2         16     15021695           45         NaN  "
      ]
     },
     "execution_count": 5,
     "metadata": {},
     "output_type": "execute_result"
    }
   ],
   "source": [
    "df.head(3)"
   ]
  },
  {
   "cell_type": "markdown",
   "metadata": {},
   "source": [
    "`pid` is the playlist identity number. `tracks` column has the songs information in the playlist. The other columns are potential features.\n",
    "\n",
    "Since `tracks` includes so many infomation in one columns, each type of track information is needed to put in seperate column. I will flatten the track data, and added its playlists information in each row."
   ]
  },
  {
   "cell_type": "markdown",
   "metadata": {},
   "source": [
    "## 2.6 Explore The Data<a id='2.6_Explore_The_Data'></a>"
   ]
  },
  {
   "cell_type": "markdown",
   "metadata": {},
   "source": [
    "### 2.6.1 Find A Playlist Of Interest<a id='2.6.1_Find_A_Playlist_Of_Interest'></a>"
   ]
  },
  {
   "cell_type": "markdown",
   "metadata": {},
   "source": [
    "Let's take a look in one playlist called `chilllll` , with pid = 7001. Check it's data:"
   ]
  },
  {
   "cell_type": "code",
   "execution_count": 6,
   "metadata": {},
   "outputs": [
    {
     "data": {
      "text/html": [
       "<div>\n",
       "<style scoped>\n",
       "    .dataframe tbody tr th:only-of-type {\n",
       "        vertical-align: middle;\n",
       "    }\n",
       "\n",
       "    .dataframe tbody tr th {\n",
       "        vertical-align: top;\n",
       "    }\n",
       "\n",
       "    .dataframe thead th {\n",
       "        text-align: right;\n",
       "    }\n",
       "</style>\n",
       "<table border=\"1\" class=\"dataframe\">\n",
       "  <thead>\n",
       "    <tr style=\"text-align: right;\">\n",
       "      <th></th>\n",
       "      <th>1</th>\n",
       "      <th>930</th>\n",
       "      <th>727</th>\n",
       "      <th>829</th>\n",
       "    </tr>\n",
       "  </thead>\n",
       "  <tbody>\n",
       "    <tr>\n",
       "      <th>name</th>\n",
       "      <td>chilllll</td>\n",
       "      <td>chilllll</td>\n",
       "      <td>chilllll</td>\n",
       "      <td>chilllll</td>\n",
       "    </tr>\n",
       "    <tr>\n",
       "      <th>collaborative</th>\n",
       "      <td>false</td>\n",
       "      <td>false</td>\n",
       "      <td>false</td>\n",
       "      <td>false</td>\n",
       "    </tr>\n",
       "    <tr>\n",
       "      <th>pid</th>\n",
       "      <td>7001</td>\n",
       "      <td>9930</td>\n",
       "      <td>11727</td>\n",
       "      <td>20829</td>\n",
       "    </tr>\n",
       "    <tr>\n",
       "      <th>modified_at</th>\n",
       "      <td>1506902400</td>\n",
       "      <td>1503705600</td>\n",
       "      <td>1469577600</td>\n",
       "      <td>1508976000</td>\n",
       "    </tr>\n",
       "    <tr>\n",
       "      <th>num_tracks</th>\n",
       "      <td>18</td>\n",
       "      <td>13</td>\n",
       "      <td>110</td>\n",
       "      <td>99</td>\n",
       "    </tr>\n",
       "    <tr>\n",
       "      <th>num_albums</th>\n",
       "      <td>15</td>\n",
       "      <td>12</td>\n",
       "      <td>104</td>\n",
       "      <td>71</td>\n",
       "    </tr>\n",
       "    <tr>\n",
       "      <th>num_followers</th>\n",
       "      <td>1</td>\n",
       "      <td>2</td>\n",
       "      <td>10</td>\n",
       "      <td>1</td>\n",
       "    </tr>\n",
       "    <tr>\n",
       "      <th>tracks</th>\n",
       "      <td>[{'pos': 0, 'artist_name': 'Angus &amp; Julia Ston...</td>\n",
       "      <td>[{'pos': 0, 'artist_name': 'SZA', 'track_uri':...</td>\n",
       "      <td>[{'pos': 0, 'artist_name': 'Twenty One Pilots'...</td>\n",
       "      <td>[{'pos': 0, 'artist_name': 'Miley Cyrus', 'tra...</td>\n",
       "    </tr>\n",
       "    <tr>\n",
       "      <th>num_edits</th>\n",
       "      <td>8</td>\n",
       "      <td>11</td>\n",
       "      <td>64</td>\n",
       "      <td>13</td>\n",
       "    </tr>\n",
       "    <tr>\n",
       "      <th>duration_ms</th>\n",
       "      <td>4031475</td>\n",
       "      <td>3033444</td>\n",
       "      <td>25358214</td>\n",
       "      <td>21347880</td>\n",
       "    </tr>\n",
       "    <tr>\n",
       "      <th>num_artists</th>\n",
       "      <td>10</td>\n",
       "      <td>10</td>\n",
       "      <td>86</td>\n",
       "      <td>58</td>\n",
       "    </tr>\n",
       "    <tr>\n",
       "      <th>description</th>\n",
       "      <td>NaN</td>\n",
       "      <td>NaN</td>\n",
       "      <td>NaN</td>\n",
       "      <td>NaN</td>\n",
       "    </tr>\n",
       "  </tbody>\n",
       "</table>\n",
       "</div>"
      ],
      "text/plain": [
       "                                                             1    \\\n",
       "name                                                    chilllll   \n",
       "collaborative                                              false   \n",
       "pid                                                         7001   \n",
       "modified_at                                           1506902400   \n",
       "num_tracks                                                    18   \n",
       "num_albums                                                    15   \n",
       "num_followers                                                  1   \n",
       "tracks         [{'pos': 0, 'artist_name': 'Angus & Julia Ston...   \n",
       "num_edits                                                      8   \n",
       "duration_ms                                              4031475   \n",
       "num_artists                                                   10   \n",
       "description                                                  NaN   \n",
       "\n",
       "                                                             930  \\\n",
       "name                                                    chilllll   \n",
       "collaborative                                              false   \n",
       "pid                                                         9930   \n",
       "modified_at                                           1503705600   \n",
       "num_tracks                                                    13   \n",
       "num_albums                                                    12   \n",
       "num_followers                                                  2   \n",
       "tracks         [{'pos': 0, 'artist_name': 'SZA', 'track_uri':...   \n",
       "num_edits                                                     11   \n",
       "duration_ms                                              3033444   \n",
       "num_artists                                                   10   \n",
       "description                                                  NaN   \n",
       "\n",
       "                                                             727  \\\n",
       "name                                                    chilllll   \n",
       "collaborative                                              false   \n",
       "pid                                                        11727   \n",
       "modified_at                                           1469577600   \n",
       "num_tracks                                                   110   \n",
       "num_albums                                                   104   \n",
       "num_followers                                                 10   \n",
       "tracks         [{'pos': 0, 'artist_name': 'Twenty One Pilots'...   \n",
       "num_edits                                                     64   \n",
       "duration_ms                                             25358214   \n",
       "num_artists                                                   86   \n",
       "description                                                  NaN   \n",
       "\n",
       "                                                             829  \n",
       "name                                                    chilllll  \n",
       "collaborative                                              false  \n",
       "pid                                                        20829  \n",
       "modified_at                                           1508976000  \n",
       "num_tracks                                                    99  \n",
       "num_albums                                                    71  \n",
       "num_followers                                                  1  \n",
       "tracks         [{'pos': 0, 'artist_name': 'Miley Cyrus', 'tra...  \n",
       "num_edits                                                     13  \n",
       "duration_ms                                             21347880  \n",
       "num_artists                                                   58  \n",
       "description                                                  NaN  "
      ]
     },
     "execution_count": 6,
     "metadata": {},
     "output_type": "execute_result"
    }
   ],
   "source": [
    "df[df.name == 'chilllll'].T"
   ]
  },
  {
   "cell_type": "markdown",
   "metadata": {},
   "source": [
    "There are four playlists that share the same name called `chilllll`. Let's use the playlist with pid of 7001, because pid is supposed to be unique between the playlist, and the data will only gives one result."
   ]
  },
  {
   "cell_type": "code",
   "execution_count": 7,
   "metadata": {},
   "outputs": [
    {
     "data": {
      "text/html": [
       "<div>\n",
       "<style scoped>\n",
       "    .dataframe tbody tr th:only-of-type {\n",
       "        vertical-align: middle;\n",
       "    }\n",
       "\n",
       "    .dataframe tbody tr th {\n",
       "        vertical-align: top;\n",
       "    }\n",
       "\n",
       "    .dataframe thead th {\n",
       "        text-align: right;\n",
       "    }\n",
       "</style>\n",
       "<table border=\"1\" class=\"dataframe\">\n",
       "  <thead>\n",
       "    <tr style=\"text-align: right;\">\n",
       "      <th></th>\n",
       "      <th>1</th>\n",
       "    </tr>\n",
       "  </thead>\n",
       "  <tbody>\n",
       "    <tr>\n",
       "      <th>name</th>\n",
       "      <td>chilllll</td>\n",
       "    </tr>\n",
       "    <tr>\n",
       "      <th>collaborative</th>\n",
       "      <td>false</td>\n",
       "    </tr>\n",
       "    <tr>\n",
       "      <th>pid</th>\n",
       "      <td>7001</td>\n",
       "    </tr>\n",
       "    <tr>\n",
       "      <th>modified_at</th>\n",
       "      <td>1506902400</td>\n",
       "    </tr>\n",
       "    <tr>\n",
       "      <th>num_tracks</th>\n",
       "      <td>18</td>\n",
       "    </tr>\n",
       "    <tr>\n",
       "      <th>num_albums</th>\n",
       "      <td>15</td>\n",
       "    </tr>\n",
       "    <tr>\n",
       "      <th>num_followers</th>\n",
       "      <td>1</td>\n",
       "    </tr>\n",
       "    <tr>\n",
       "      <th>tracks</th>\n",
       "      <td>[{'pos': 0, 'artist_name': 'Angus &amp; Julia Ston...</td>\n",
       "    </tr>\n",
       "    <tr>\n",
       "      <th>num_edits</th>\n",
       "      <td>8</td>\n",
       "    </tr>\n",
       "    <tr>\n",
       "      <th>duration_ms</th>\n",
       "      <td>4031475</td>\n",
       "    </tr>\n",
       "    <tr>\n",
       "      <th>num_artists</th>\n",
       "      <td>10</td>\n",
       "    </tr>\n",
       "    <tr>\n",
       "      <th>description</th>\n",
       "      <td>NaN</td>\n",
       "    </tr>\n",
       "  </tbody>\n",
       "</table>\n",
       "</div>"
      ],
      "text/plain": [
       "                                                               1\n",
       "name                                                    chilllll\n",
       "collaborative                                              false\n",
       "pid                                                         7001\n",
       "modified_at                                           1506902400\n",
       "num_tracks                                                    18\n",
       "num_albums                                                    15\n",
       "num_followers                                                  1\n",
       "tracks         [{'pos': 0, 'artist_name': 'Angus & Julia Ston...\n",
       "num_edits                                                      8\n",
       "duration_ms                                              4031475\n",
       "num_artists                                                   10\n",
       "description                                                  NaN"
      ]
     },
     "execution_count": 7,
     "metadata": {},
     "output_type": "execute_result"
    }
   ],
   "source": [
    "df[df.pid == 7001].T"
   ]
  },
  {
   "cell_type": "markdown",
   "metadata": {},
   "source": [
    "### 2.6.2 Number Of Missing Values By Column<a id='2.6.2_Number_Of_Missing_Values_By_Column'></a>"
   ]
  },
  {
   "cell_type": "code",
   "execution_count": 8,
   "metadata": {},
   "outputs": [
    {
     "data": {
      "text/plain": [
       "name                 0\n",
       "collaborative        0\n",
       "pid                  0\n",
       "modified_at          0\n",
       "num_tracks           0\n",
       "num_albums           0\n",
       "num_followers        0\n",
       "tracks               0\n",
       "num_edits            0\n",
       "duration_ms          0\n",
       "num_artists          0\n",
       "description      19629\n",
       "dtype: int64"
      ]
     },
     "execution_count": 8,
     "metadata": {},
     "output_type": "execute_result"
    }
   ],
   "source": [
    "df.isnull().sum()"
   ]
  },
  {
   "cell_type": "markdown",
   "metadata": {},
   "source": [
    "There are total of 20,000 playlists with a missing of 19,629 value on description column. I will get rid of that column since it has 98% of missing value."
   ]
  },
  {
   "cell_type": "code",
   "execution_count": 9,
   "metadata": {},
   "outputs": [],
   "source": [
    "df = df.drop(columns=['description'])"
   ]
  },
  {
   "cell_type": "code",
   "execution_count": 10,
   "metadata": {},
   "outputs": [
    {
     "data": {
      "text/plain": [
       "Index(['name', 'collaborative', 'pid', 'modified_at', 'num_tracks',\n",
       "       'num_albums', 'num_followers', 'tracks', 'num_edits', 'duration_ms',\n",
       "       'num_artists'],\n",
       "      dtype='object')"
      ]
     },
     "execution_count": 10,
     "metadata": {},
     "output_type": "execute_result"
    }
   ],
   "source": [
    "# Check columns name after drop the `description` columns\n",
    "df.columns"
   ]
  },
  {
   "cell_type": "markdown",
   "metadata": {},
   "source": [
    "### 2.6.3 Categorical Features<a id='2.6.3_Categorical_Features'></a>"
   ]
  },
  {
   "cell_type": "code",
   "execution_count": 11,
   "metadata": {},
   "outputs": [
    {
     "data": {
      "text/html": [
       "<div>\n",
       "<style scoped>\n",
       "    .dataframe tbody tr th:only-of-type {\n",
       "        vertical-align: middle;\n",
       "    }\n",
       "\n",
       "    .dataframe tbody tr th {\n",
       "        vertical-align: top;\n",
       "    }\n",
       "\n",
       "    .dataframe thead th {\n",
       "        text-align: right;\n",
       "    }\n",
       "</style>\n",
       "<table border=\"1\" class=\"dataframe\">\n",
       "  <thead>\n",
       "    <tr style=\"text-align: right;\">\n",
       "      <th></th>\n",
       "      <th>name</th>\n",
       "      <th>collaborative</th>\n",
       "      <th>tracks</th>\n",
       "    </tr>\n",
       "  </thead>\n",
       "  <tbody>\n",
       "    <tr>\n",
       "      <th>0</th>\n",
       "      <td>NewNew</td>\n",
       "      <td>false</td>\n",
       "      <td>[{'pos': 0, 'artist_name': 'WILDES', 'track_ur...</td>\n",
       "    </tr>\n",
       "    <tr>\n",
       "      <th>1</th>\n",
       "      <td>chilllll</td>\n",
       "      <td>false</td>\n",
       "      <td>[{'pos': 0, 'artist_name': 'Angus &amp; Julia Ston...</td>\n",
       "    </tr>\n",
       "    <tr>\n",
       "      <th>2</th>\n",
       "      <td>offline</td>\n",
       "      <td>false</td>\n",
       "      <td>[{'pos': 0, 'artist_name': 'Keith Urban', 'tra...</td>\n",
       "    </tr>\n",
       "    <tr>\n",
       "      <th>3</th>\n",
       "      <td>feels</td>\n",
       "      <td>false</td>\n",
       "      <td>[{'pos': 0, 'artist_name': 'Chance The Rapper'...</td>\n",
       "    </tr>\n",
       "    <tr>\n",
       "      <th>4</th>\n",
       "      <td>Latin Dance</td>\n",
       "      <td>false</td>\n",
       "      <td>[{'pos': 0, 'artist_name': 'Merengue Latin Ban...</td>\n",
       "    </tr>\n",
       "    <tr>\n",
       "      <th>...</th>\n",
       "      <td>...</td>\n",
       "      <td>...</td>\n",
       "      <td>...</td>\n",
       "    </tr>\n",
       "    <tr>\n",
       "      <th>995</th>\n",
       "      <td>Punk Covers</td>\n",
       "      <td>false</td>\n",
       "      <td>[{'pos': 0, 'artist_name': 'New Found Glory', ...</td>\n",
       "    </tr>\n",
       "    <tr>\n",
       "      <th>996</th>\n",
       "      <td>NYE</td>\n",
       "      <td>false</td>\n",
       "      <td>[{'pos': 0, 'artist_name': 'P!nk', 'track_uri'...</td>\n",
       "    </tr>\n",
       "    <tr>\n",
       "      <th>997</th>\n",
       "      <td>Reception Music</td>\n",
       "      <td>false</td>\n",
       "      <td>[{'pos': 0, 'artist_name': 'Vance Joy', 'track...</td>\n",
       "    </tr>\n",
       "    <tr>\n",
       "      <th>998</th>\n",
       "      <td>Sad Music</td>\n",
       "      <td>false</td>\n",
       "      <td>[{'pos': 0, 'artist_name': 'A Great Big World'...</td>\n",
       "    </tr>\n",
       "    <tr>\n",
       "      <th>999</th>\n",
       "      <td>Calm</td>\n",
       "      <td>false</td>\n",
       "      <td>[{'pos': 0, 'artist_name': 'Jason Mraz', 'trac...</td>\n",
       "    </tr>\n",
       "  </tbody>\n",
       "</table>\n",
       "<p>20000 rows × 3 columns</p>\n",
       "</div>"
      ],
      "text/plain": [
       "                name collaborative  \\\n",
       "0             NewNew         false   \n",
       "1           chilllll         false   \n",
       "2           offline          false   \n",
       "3              feels         false   \n",
       "4        Latin Dance         false   \n",
       "..               ...           ...   \n",
       "995      Punk Covers         false   \n",
       "996              NYE         false   \n",
       "997  Reception Music         false   \n",
       "998        Sad Music         false   \n",
       "999             Calm         false   \n",
       "\n",
       "                                                tracks  \n",
       "0    [{'pos': 0, 'artist_name': 'WILDES', 'track_ur...  \n",
       "1    [{'pos': 0, 'artist_name': 'Angus & Julia Ston...  \n",
       "2    [{'pos': 0, 'artist_name': 'Keith Urban', 'tra...  \n",
       "3    [{'pos': 0, 'artist_name': 'Chance The Rapper'...  \n",
       "4    [{'pos': 0, 'artist_name': 'Merengue Latin Ban...  \n",
       "..                                                 ...  \n",
       "995  [{'pos': 0, 'artist_name': 'New Found Glory', ...  \n",
       "996  [{'pos': 0, 'artist_name': 'P!nk', 'track_uri'...  \n",
       "997  [{'pos': 0, 'artist_name': 'Vance Joy', 'track...  \n",
       "998  [{'pos': 0, 'artist_name': 'A Great Big World'...  \n",
       "999  [{'pos': 0, 'artist_name': 'Jason Mraz', 'trac...  \n",
       "\n",
       "[20000 rows x 3 columns]"
      ]
     },
     "execution_count": 11,
     "metadata": {},
     "output_type": "execute_result"
    }
   ],
   "source": [
    "df.select_dtypes(object)"
   ]
  },
  {
   "cell_type": "markdown",
   "metadata": {},
   "source": [
    "In the `collaborative` column, most of the value appears as 'false'. Let's check the total of 'false' and other value in that column."
   ]
  },
  {
   "cell_type": "code",
   "execution_count": 12,
   "metadata": {},
   "outputs": [
    {
     "data": {
      "text/plain": [
       "false    19570\n",
       "true       430\n",
       "Name: collaborative, dtype: int64"
      ]
     },
     "execution_count": 12,
     "metadata": {},
     "output_type": "execute_result"
    }
   ],
   "source": [
    "# Count how many playlist has 'false' or `true` value in `collborative` column\n",
    "df.collaborative.value_counts()"
   ]
  },
  {
   "cell_type": "markdown",
   "metadata": {},
   "source": []
  },
  {
   "cell_type": "markdown",
   "metadata": {},
   "source": [
    "#### 2.6.3.1 Unique Playlist Names<a id='2.6.3.1_Unique_Playlist_Names'></a>"
   ]
  },
  {
   "cell_type": "code",
   "execution_count": 13,
   "metadata": {},
   "outputs": [
    {
     "data": {
      "text/plain": [
       "Country      263\n",
       "Chill        177\n",
       "chill        163\n",
       "country      154\n",
       "Rock         104\n",
       "Workout      101\n",
       "Rap           99\n",
       "Christmas     90\n",
       "workout       72\n",
       "Oldies        70\n",
       "Name: name, dtype: int64"
      ]
     },
     "execution_count": 13,
     "metadata": {},
     "output_type": "execute_result"
    }
   ],
   "source": [
    "df['name'].value_counts().head(10)"
   ]
  },
  {
   "cell_type": "markdown",
   "metadata": {},
   "source": [
    "There are many duplicated playlist name. Let's check if there are any playlists have the same `pid`."
   ]
  },
  {
   "cell_type": "code",
   "execution_count": 14,
   "metadata": {},
   "outputs": [
    {
     "data": {
      "text/plain": [
       "2047     1\n",
       "693      1\n",
       "19116    1\n",
       "17069    1\n",
       "10928    1\n",
       "Name: pid, dtype: int64"
      ]
     },
     "execution_count": 14,
     "metadata": {},
     "output_type": "execute_result"
    }
   ],
   "source": [
    "df['pid'].value_counts(ascending=False).head()"
   ]
  },
  {
   "cell_type": "markdown",
   "metadata": {},
   "source": [
    "Great, playlist pid are unique. So I will use this `pid` instead of playlist `name`."
   ]
  },
  {
   "cell_type": "markdown",
   "metadata": {},
   "source": [
    "#### 2.6.3.2 Unique Track Names<a id='2.6.3.2_Unique_Track_Names'></a>"
   ]
  },
  {
   "cell_type": "markdown",
   "metadata": {},
   "source": [
    "## Tracks Flattening"
   ]
  },
  {
   "cell_type": "code",
   "execution_count": 15,
   "metadata": {},
   "outputs": [],
   "source": [
    "track_dict = {}\n",
    "album_dict = {}\n",
    "\n",
    "for i in range(len(df)):\n",
    "    row = df.iloc[i]\n",
    "    playlist_id = row['pid']\n",
    "    \n",
    "    for track in row['tracks']:\n",
    "        song_id = track['track_uri']\n",
    "        song_name = track['track_name']\n",
    "        \n",
    "        album_id = track['album_uri']\n",
    "        album_name = track['album_name']\n",
    "        \n",
    "        \n",
    "        if song_id not in track_dict:\n",
    "            track_dict[song_id] = {'name': song_name, 'playlist_vector': [], 'freq': 0}\n",
    "            \n",
    "            \n",
    "        if album_id not in album_dict:\n",
    "            album_dict[album_id] = {'name': album_name, 'freq': 0}\n",
    "\n",
    "        track_dict[song_id]['freq'] += 1\n",
    "        album_dict[album_id]['freq'] += 1\n",
    "        track_dict[song_id]['playlist_vector'].append(playlist_id)"
   ]
  },
  {
   "cell_type": "code",
   "execution_count": 16,
   "metadata": {},
   "outputs": [],
   "source": [
    "df_unique_tracks = pd.DataFrame.from_dict(track_dict, orient=\"index\").reset_index()"
   ]
  },
  {
   "cell_type": "code",
   "execution_count": 17,
   "metadata": {},
   "outputs": [
    {
     "data": {
      "text/plain": [
       "Silent Night       146\n",
       "Home               136\n",
       "Intro              110\n",
       "White Christmas     96\n",
       "O Holy Night        93\n",
       "Name: name, dtype: int64"
      ]
     },
     "execution_count": 17,
     "metadata": {},
     "output_type": "execute_result"
    }
   ],
   "source": [
    "df_unique_tracks.name.value_counts(ascending=False).head()"
   ]
  },
  {
   "cell_type": "markdown",
   "metadata": {},
   "source": []
  },
  {
   "cell_type": "markdown",
   "metadata": {},
   "source": [
    "### 2.6.4 Numeric Features<a id='2.6.4_Numeric_Features'></a>\n"
   ]
  },
  {
   "cell_type": "markdown",
   "metadata": {},
   "source": [
    "#### 2.6.4.1 Numeric data summary<a id='2.6.4.1_Numeric_data_summary'></a>"
   ]
  },
  {
   "cell_type": "code",
   "execution_count": 18,
   "metadata": {},
   "outputs": [
    {
     "data": {
      "text/plain": [
       "Index(['name', 'collaborative', 'pid', 'modified_at', 'num_tracks',\n",
       "       'num_albums', 'num_followers', 'tracks', 'num_edits', 'duration_ms',\n",
       "       'num_artists'],\n",
       "      dtype='object')"
      ]
     },
     "execution_count": 18,
     "metadata": {},
     "output_type": "execute_result"
    }
   ],
   "source": [
    "# of the playlists\n",
    "df.columns.unique()"
   ]
  },
  {
   "cell_type": "code",
   "execution_count": 20,
   "metadata": {},
   "outputs": [
    {
     "data": {
      "text/html": [
       "<div>\n",
       "<style scoped>\n",
       "    .dataframe tbody tr th:only-of-type {\n",
       "        vertical-align: middle;\n",
       "    }\n",
       "\n",
       "    .dataframe tbody tr th {\n",
       "        vertical-align: top;\n",
       "    }\n",
       "\n",
       "    .dataframe thead th {\n",
       "        text-align: right;\n",
       "    }\n",
       "</style>\n",
       "<table border=\"1\" class=\"dataframe\">\n",
       "  <thead>\n",
       "    <tr style=\"text-align: right;\">\n",
       "      <th></th>\n",
       "      <th>count</th>\n",
       "      <th>mean</th>\n",
       "      <th>std</th>\n",
       "      <th>min</th>\n",
       "      <th>25%</th>\n",
       "      <th>50%</th>\n",
       "      <th>75%</th>\n",
       "      <th>max</th>\n",
       "    </tr>\n",
       "  </thead>\n",
       "  <tbody>\n",
       "    <tr>\n",
       "      <th>pid</th>\n",
       "      <td>20000.0</td>\n",
       "      <td>1.079950e+04</td>\n",
       "      <td>6.057654e+03</td>\n",
       "      <td>0.000000e+00</td>\n",
       "      <td>5.999750e+03</td>\n",
       "      <td>1.099950e+04</td>\n",
       "      <td>1.599925e+04</td>\n",
       "      <td>2.099900e+04</td>\n",
       "    </tr>\n",
       "    <tr>\n",
       "      <th>modified_at</th>\n",
       "      <td>20000.0</td>\n",
       "      <td>1.476559e+09</td>\n",
       "      <td>3.653277e+07</td>\n",
       "      <td>1.310602e+09</td>\n",
       "      <td>1.459123e+09</td>\n",
       "      <td>1.490573e+09</td>\n",
       "      <td>1.505606e+09</td>\n",
       "      <td>1.509494e+09</td>\n",
       "    </tr>\n",
       "    <tr>\n",
       "      <th>num_tracks</th>\n",
       "      <td>20000.0</td>\n",
       "      <td>6.659810e+01</td>\n",
       "      <td>5.377117e+01</td>\n",
       "      <td>5.000000e+00</td>\n",
       "      <td>2.600000e+01</td>\n",
       "      <td>5.000000e+01</td>\n",
       "      <td>9.200000e+01</td>\n",
       "      <td>2.500000e+02</td>\n",
       "    </tr>\n",
       "    <tr>\n",
       "      <th>num_albums</th>\n",
       "      <td>20000.0</td>\n",
       "      <td>4.974990e+01</td>\n",
       "      <td>4.003127e+01</td>\n",
       "      <td>2.000000e+00</td>\n",
       "      <td>2.000000e+01</td>\n",
       "      <td>3.700000e+01</td>\n",
       "      <td>6.800000e+01</td>\n",
       "      <td>2.330000e+02</td>\n",
       "    </tr>\n",
       "    <tr>\n",
       "      <th>num_followers</th>\n",
       "      <td>20000.0</td>\n",
       "      <td>2.788700e+00</td>\n",
       "      <td>1.163831e+02</td>\n",
       "      <td>1.000000e+00</td>\n",
       "      <td>1.000000e+00</td>\n",
       "      <td>1.000000e+00</td>\n",
       "      <td>1.000000e+00</td>\n",
       "      <td>1.584200e+04</td>\n",
       "    </tr>\n",
       "    <tr>\n",
       "      <th>num_edits</th>\n",
       "      <td>20000.0</td>\n",
       "      <td>1.785130e+01</td>\n",
       "      <td>2.087196e+01</td>\n",
       "      <td>2.000000e+00</td>\n",
       "      <td>5.000000e+00</td>\n",
       "      <td>1.000000e+01</td>\n",
       "      <td>2.200000e+01</td>\n",
       "      <td>1.780000e+02</td>\n",
       "    </tr>\n",
       "    <tr>\n",
       "      <th>duration_ms</th>\n",
       "      <td>20000.0</td>\n",
       "      <td>1.562522e+07</td>\n",
       "      <td>1.286244e+07</td>\n",
       "      <td>5.710860e+05</td>\n",
       "      <td>6.064626e+06</td>\n",
       "      <td>1.151855e+07</td>\n",
       "      <td>2.143368e+07</td>\n",
       "      <td>9.818810e+07</td>\n",
       "    </tr>\n",
       "    <tr>\n",
       "      <th>num_artists</th>\n",
       "      <td>20000.0</td>\n",
       "      <td>3.821120e+01</td>\n",
       "      <td>3.041335e+01</td>\n",
       "      <td>3.000000e+00</td>\n",
       "      <td>1.600000e+01</td>\n",
       "      <td>3.000000e+01</td>\n",
       "      <td>5.200000e+01</td>\n",
       "      <td>1.990000e+02</td>\n",
       "    </tr>\n",
       "  </tbody>\n",
       "</table>\n",
       "</div>"
      ],
      "text/plain": [
       "                 count          mean           std           min  \\\n",
       "pid            20000.0  1.079950e+04  6.057654e+03  0.000000e+00   \n",
       "modified_at    20000.0  1.476559e+09  3.653277e+07  1.310602e+09   \n",
       "num_tracks     20000.0  6.659810e+01  5.377117e+01  5.000000e+00   \n",
       "num_albums     20000.0  4.974990e+01  4.003127e+01  2.000000e+00   \n",
       "num_followers  20000.0  2.788700e+00  1.163831e+02  1.000000e+00   \n",
       "num_edits      20000.0  1.785130e+01  2.087196e+01  2.000000e+00   \n",
       "duration_ms    20000.0  1.562522e+07  1.286244e+07  5.710860e+05   \n",
       "num_artists    20000.0  3.821120e+01  3.041335e+01  3.000000e+00   \n",
       "\n",
       "                        25%           50%           75%           max  \n",
       "pid            5.999750e+03  1.099950e+04  1.599925e+04  2.099900e+04  \n",
       "modified_at    1.459123e+09  1.490573e+09  1.505606e+09  1.509494e+09  \n",
       "num_tracks     2.600000e+01  5.000000e+01  9.200000e+01  2.500000e+02  \n",
       "num_albums     2.000000e+01  3.700000e+01  6.800000e+01  2.330000e+02  \n",
       "num_followers  1.000000e+00  1.000000e+00  1.000000e+00  1.584200e+04  \n",
       "num_edits      5.000000e+00  1.000000e+01  2.200000e+01  1.780000e+02  \n",
       "duration_ms    6.064626e+06  1.151855e+07  2.143368e+07  9.818810e+07  \n",
       "num_artists    1.600000e+01  3.000000e+01  5.200000e+01  1.990000e+02  "
      ]
     },
     "execution_count": 20,
     "metadata": {},
     "output_type": "execute_result"
    }
   ],
   "source": [
    "df.describe().T"
   ]
  },
  {
   "cell_type": "markdown",
   "metadata": {},
   "source": [
    "#### 2.6.4.2 Distributions Of Feature Values<a id='2.6.4.2_Distributions_Of_Feature_Values'></a>"
   ]
  },
  {
   "cell_type": "code",
   "execution_count": 21,
   "metadata": {},
   "outputs": [
    {
     "data": {
      "image/png": "[encoded data removed]",
      "text/plain": [
       "<Figure size 1080x720 with 9 Axes>"
      ]
     },
     "metadata": {
      "needs_background": "light"
     },
     "output_type": "display_data"
    }
   ],
   "source": [
    "df.hist(figsize=(15,10))    # width, height in inches           \n",
    "plt.subplots_adjust(hspace = 0.5);"
   ]
  },
  {
   "cell_type": "code",
   "execution_count": null,
   "metadata": {},
   "outputs": [],
   "source": []
  }
 ],
 "metadata": {
  "kernelspec": {
   "display_name": "Python 3",
   "language": "python",
   "name": "python3"
  },
  "language_info": {
   "codemirror_mode": {
    "name": "ipython",
    "version": 3
   },
   "file_extension": ".py",
   "mimetype": "text/x-python",
   "name": "python",
   "nbconvert_exporter": "python",
   "pygments_lexer": "ipython3",
   "version": "3.8.3"
  }
 },
 "nbformat": 4,
 "nbformat_minor": 4
}
