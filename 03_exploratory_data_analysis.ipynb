{
 "cells": [
  {
   "cell_type": "markdown",
   "metadata": {},
   "source": [
    "# 3 Exploratory Data Analysis<a id='3_Exploratory_Data_Analysis'></a>"
   ]
  },
  {
   "cell_type": "markdown",
   "metadata": {},
   "source": [
    "## 3.1 Contents<a id='3.1_Contents'></a>\n",
    "* [3 Exploratory Data Analysis](#3_Exploratory_Data_Analysis)\n",
    "  * [3.1 Contents](#3.1_Contents)\n",
    "  * [3.2 Imports](#3.2_Imports)\n",
    "  * [3.3 Load The Data](#3.3_Load_The_Data)\n",
    "  * [3.4 Explore The Data](#3.4_Explore_The_Data)\n",
    "  * [3.5 Data Statistics & Distribution](#3.5_Data_Statistics_and_Distribution)\n",
    "      * [3.5.1 Data Statistics](#3.5.1_Data_Statistics)\n",
    "      * [3.5.2 Distribution](#3.5.2_Distribution)\n",
    "  * [3.6 Visualization](#3.6_Visualization)\n",
    "      * [3.6.1 Top 10 Popular Playlists](#3.6.1_Top_10_Popular_Playlists)\n",
    "      * [3.6.2 Top 10 Popular Tracks](#3.6.2_Top_10_Popular_Tracks)\n",
    "      * [3.6.3 Top 10 Popular Albums](#3.6.3_Top_10_Popular_Albums)\n"
   ]
  },
  {
   "cell_type": "markdown",
   "metadata": {},
   "source": [
    "## 3.2 Imports<a id='3.2_Imports'></a>"
   ]
  },
  {
   "cell_type": "code",
   "execution_count": 1,
   "metadata": {},
   "outputs": [],
   "source": [
    "import json\n",
    "import pandas as pd\n",
    "import matplotlib.pyplot as plt\n",
    "import seaborn as sns\n",
    "import os\n",
    "import glob, collections\n"
   ]
  },
  {
   "cell_type": "markdown",
   "metadata": {},
   "source": [
    "## 3.3 Load The Data (20,000 playlists) <a id='3.3_Load_The_Data'></a>"
   ]
  },
  {
   "cell_type": "code",
   "execution_count": 2,
   "metadata": {},
   "outputs": [],
   "source": [
    "read_files = glob.glob(\"spotify_million_playlist_dataset/data/*.json\")\n",
    "df = pd.DataFrame()\n",
    "\n",
    "for f in read_files:\n",
    "    with open(f, \"rb\") as infile:\n",
    "        data = json.load(infile)\n",
    "        each_json_file = pd.DataFrame(data['playlists'])\n",
    "        df = df.append(each_json_file)"
   ]
  },
  {
   "cell_type": "code",
   "execution_count": 3,
   "metadata": {},
   "outputs": [
    {
     "name": "stdout",
     "output_type": "stream",
     "text": [
      "Number of playlists:  20000\n"
     ]
    }
   ],
   "source": [
    "print(\"Number of playlists: \" , len(df))"
   ]
  },
  {
   "cell_type": "code",
   "execution_count": 4,
   "metadata": {},
   "outputs": [
    {
     "data": {
      "text/html": [
       "<div>\n",
       "<style scoped>\n",
       "    .dataframe tbody tr th:only-of-type {\n",
       "        vertical-align: middle;\n",
       "    }\n",
       "\n",
       "    .dataframe tbody tr th {\n",
       "        vertical-align: top;\n",
       "    }\n",
       "\n",
       "    .dataframe thead th {\n",
       "        text-align: right;\n",
       "    }\n",
       "</style>\n",
       "<table border=\"1\" class=\"dataframe\">\n",
       "  <thead>\n",
       "    <tr style=\"text-align: right;\">\n",
       "      <th></th>\n",
       "      <th>name</th>\n",
       "      <th>collaborative</th>\n",
       "      <th>pid</th>\n",
       "      <th>modified_at</th>\n",
       "      <th>num_tracks</th>\n",
       "      <th>num_albums</th>\n",
       "      <th>num_followers</th>\n",
       "      <th>tracks</th>\n",
       "      <th>num_edits</th>\n",
       "      <th>duration_ms</th>\n",
       "      <th>num_artists</th>\n",
       "      <th>description</th>\n",
       "    </tr>\n",
       "  </thead>\n",
       "  <tbody>\n",
       "    <tr>\n",
       "      <th>0</th>\n",
       "      <td>NewNew</td>\n",
       "      <td>false</td>\n",
       "      <td>7000</td>\n",
       "      <td>1509321600</td>\n",
       "      <td>83</td>\n",
       "      <td>78</td>\n",
       "      <td>2</td>\n",
       "      <td>[{'pos': 0, 'artist_name': 'WILDES', 'track_ur...</td>\n",
       "      <td>49</td>\n",
       "      <td>18461552</td>\n",
       "      <td>72</td>\n",
       "      <td>NaN</td>\n",
       "    </tr>\n",
       "    <tr>\n",
       "      <th>1</th>\n",
       "      <td>chilllll</td>\n",
       "      <td>false</td>\n",
       "      <td>7001</td>\n",
       "      <td>1506902400</td>\n",
       "      <td>18</td>\n",
       "      <td>15</td>\n",
       "      <td>1</td>\n",
       "      <td>[{'pos': 0, 'artist_name': 'Angus &amp; Julia Ston...</td>\n",
       "      <td>8</td>\n",
       "      <td>4031475</td>\n",
       "      <td>10</td>\n",
       "      <td>NaN</td>\n",
       "    </tr>\n",
       "    <tr>\n",
       "      <th>2</th>\n",
       "      <td>offline</td>\n",
       "      <td>false</td>\n",
       "      <td>7002</td>\n",
       "      <td>1505433600</td>\n",
       "      <td>63</td>\n",
       "      <td>48</td>\n",
       "      <td>1</td>\n",
       "      <td>[{'pos': 0, 'artist_name': 'Keith Urban', 'tra...</td>\n",
       "      <td>16</td>\n",
       "      <td>15021695</td>\n",
       "      <td>45</td>\n",
       "      <td>NaN</td>\n",
       "    </tr>\n",
       "    <tr>\n",
       "      <th>3</th>\n",
       "      <td>feels</td>\n",
       "      <td>false</td>\n",
       "      <td>7003</td>\n",
       "      <td>1508284800</td>\n",
       "      <td>97</td>\n",
       "      <td>51</td>\n",
       "      <td>1</td>\n",
       "      <td>[{'pos': 0, 'artist_name': 'Chance The Rapper'...</td>\n",
       "      <td>20</td>\n",
       "      <td>24751320</td>\n",
       "      <td>27</td>\n",
       "      <td>NaN</td>\n",
       "    </tr>\n",
       "    <tr>\n",
       "      <th>4</th>\n",
       "      <td>Latin Dance</td>\n",
       "      <td>false</td>\n",
       "      <td>7004</td>\n",
       "      <td>1489795200</td>\n",
       "      <td>23</td>\n",
       "      <td>20</td>\n",
       "      <td>1</td>\n",
       "      <td>[{'pos': 0, 'artist_name': 'Merengue Latin Ban...</td>\n",
       "      <td>3</td>\n",
       "      <td>5989994</td>\n",
       "      <td>11</td>\n",
       "      <td>NaN</td>\n",
       "    </tr>\n",
       "  </tbody>\n",
       "</table>\n",
       "</div>"
      ],
      "text/plain": [
       "          name collaborative   pid  modified_at  num_tracks  num_albums  \\\n",
       "0       NewNew         false  7000   1509321600          83          78   \n",
       "1     chilllll         false  7001   1506902400          18          15   \n",
       "2     offline          false  7002   1505433600          63          48   \n",
       "3        feels         false  7003   1508284800          97          51   \n",
       "4  Latin Dance         false  7004   1489795200          23          20   \n",
       "\n",
       "   num_followers                                             tracks  \\\n",
       "0              2  [{'pos': 0, 'artist_name': 'WILDES', 'track_ur...   \n",
       "1              1  [{'pos': 0, 'artist_name': 'Angus & Julia Ston...   \n",
       "2              1  [{'pos': 0, 'artist_name': 'Keith Urban', 'tra...   \n",
       "3              1  [{'pos': 0, 'artist_name': 'Chance The Rapper'...   \n",
       "4              1  [{'pos': 0, 'artist_name': 'Merengue Latin Ban...   \n",
       "\n",
       "   num_edits  duration_ms  num_artists description  \n",
       "0         49     18461552           72         NaN  \n",
       "1          8      4031475           10         NaN  \n",
       "2         16     15021695           45         NaN  \n",
       "3         20     24751320           27         NaN  \n",
       "4          3      5989994           11         NaN  "
      ]
     },
     "execution_count": 4,
     "metadata": {},
     "output_type": "execute_result"
    }
   ],
   "source": [
    "df.head()"
   ]
  },
  {
   "cell_type": "markdown",
   "metadata": {},
   "source": [
    "## 3.4 Explore The Data<a id='3.4_Explore_The_Data'></a>"
   ]
  },
  {
   "cell_type": "markdown",
   "metadata": {},
   "source": [
    "### Create tracks list"
   ]
  },
  {
   "cell_type": "code",
   "execution_count": 5,
   "metadata": {},
   "outputs": [],
   "source": [
    "track_dict = {}\n",
    "album_dict = {}\n",
    "\n",
    "for i in range(len(df)):\n",
    "    row = df.iloc[i]\n",
    "    playlist_id = row['pid']\n",
    "    \n",
    "    for track in row['tracks']:\n",
    "        song_id = track['track_uri']\n",
    "        song_name = track['track_name']\n",
    "        \n",
    "        album_id = track['album_uri']\n",
    "        album_name = track['album_name']\n",
    "        \n",
    "        \n",
    "        if song_id not in track_dict:\n",
    "            track_dict[song_id] = {'name': song_name, 'playlist_vector': [], 'freq': 0}\n",
    "            \n",
    "            \n",
    "        if album_id not in album_dict:\n",
    "            album_dict[album_id] = {'name': album_name, 'freq': 0}\n",
    "\n",
    "        track_dict[song_id]['freq'] += 1\n",
    "        album_dict[album_id]['freq'] += 1\n",
    "        track_dict[song_id]['playlist_vector'].append(playlist_id)"
   ]
  },
  {
   "cell_type": "markdown",
   "metadata": {},
   "source": [
    "### Save unique tracks and unique albums as pandas DF\n"
   ]
  },
  {
   "cell_type": "code",
   "execution_count": 6,
   "metadata": {},
   "outputs": [],
   "source": [
    "df_unique_tracks = pd.DataFrame.from_dict(track_dict, orient=\"index\").reset_index()\n",
    "df_unique_tracks.columns = ['track_id', 'track_name', 'playlist_vector', 'frequency']\n",
    "\n",
    "df_unique_albums = pd.DataFrame.from_dict(album_dict, orient=\"index\").reset_index()\n",
    "df_unique_albums.columns = ['album_id', 'album_name', 'frequency']"
   ]
  },
  {
   "cell_type": "code",
   "execution_count": 7,
   "metadata": {},
   "outputs": [
    {
     "name": "stdout",
     "output_type": "stream",
     "text": [
      "263214\n"
     ]
    },
    {
     "data": {
      "text/html": [
       "<div>\n",
       "<style scoped>\n",
       "    .dataframe tbody tr th:only-of-type {\n",
       "        vertical-align: middle;\n",
       "    }\n",
       "\n",
       "    .dataframe tbody tr th {\n",
       "        vertical-align: top;\n",
       "    }\n",
       "\n",
       "    .dataframe thead th {\n",
       "        text-align: right;\n",
       "    }\n",
       "</style>\n",
       "<table border=\"1\" class=\"dataframe\">\n",
       "  <thead>\n",
       "    <tr style=\"text-align: right;\">\n",
       "      <th></th>\n",
       "      <th>track_id</th>\n",
       "      <th>track_name</th>\n",
       "      <th>playlist_vector</th>\n",
       "      <th>frequency</th>\n",
       "    </tr>\n",
       "  </thead>\n",
       "  <tbody>\n",
       "    <tr>\n",
       "      <th>0</th>\n",
       "      <td>spotify:track:3uvsVUrAaGQJCTEUR1S3Sx</td>\n",
       "      <td>Bare</td>\n",
       "      <td>[7000, 6519, 19095, 11643]</td>\n",
       "      <td>4</td>\n",
       "    </tr>\n",
       "    <tr>\n",
       "      <th>1</th>\n",
       "      <td>spotify:track:0heE5tAAaDQmnGhVDImPl2</td>\n",
       "      <td>Dynasty</td>\n",
       "      <td>[7000, 6257, 8212, 16246, 10028, 673, 859, 550...</td>\n",
       "      <td>10</td>\n",
       "    </tr>\n",
       "    <tr>\n",
       "      <th>2</th>\n",
       "      <td>spotify:track:3omXshBamrREltcf24gYDC</td>\n",
       "      <td>First</td>\n",
       "      <td>[7000, 7017, 7156, 7268, 7278, 7303, 7487, 753...</td>\n",
       "      <td>203</td>\n",
       "    </tr>\n",
       "    <tr>\n",
       "      <th>3</th>\n",
       "      <td>spotify:track:6TYWE19e35N7Bn5heHwyY6</td>\n",
       "      <td>Your Girl</td>\n",
       "      <td>[7000, 7095, 3325, 2414, 16125, 16161, 9815, 1...</td>\n",
       "      <td>12</td>\n",
       "    </tr>\n",
       "    <tr>\n",
       "      <th>4</th>\n",
       "      <td>spotify:track:1xznGGDReH1oQq0xzbwXa3</td>\n",
       "      <td>One Dance</td>\n",
       "      <td>[7000, 7038, 7054, 7054, 7061, 7071, 7080, 708...</td>\n",
       "      <td>837</td>\n",
       "    </tr>\n",
       "    <tr>\n",
       "      <th>5</th>\n",
       "      <td>spotify:track:0yy6a8NCTaaVQwyEPIi8UU</td>\n",
       "      <td>Like It Doesn't Hurt (feat. Husser)</td>\n",
       "      <td>[7000, 3307, 769, 11249, 20063, 12395]</td>\n",
       "      <td>6</td>\n",
       "    </tr>\n",
       "    <tr>\n",
       "      <th>6</th>\n",
       "      <td>spotify:track:4vb4mFvYsr2h6enhjJsq9Y</td>\n",
       "      <td>Water Under the Bridge</td>\n",
       "      <td>[7000, 7493, 7630, 7706, 3061, 3179, 3834, 627...</td>\n",
       "      <td>89</td>\n",
       "    </tr>\n",
       "    <tr>\n",
       "      <th>7</th>\n",
       "      <td>spotify:track:4DMg5fvBfDLannugAGN2QG</td>\n",
       "      <td>Sweet Jane</td>\n",
       "      <td>[7000, 7706, 7868, 6000, 11504]</td>\n",
       "      <td>5</td>\n",
       "    </tr>\n",
       "    <tr>\n",
       "      <th>8</th>\n",
       "      <td>spotify:track:1Jx5IdnXAJCKZ8EuczL5gX</td>\n",
       "      <td>Black Water</td>\n",
       "      <td>[7000, 7699, 7906, 8130, 16132, 9729, 9886]</td>\n",
       "      <td>7</td>\n",
       "    </tr>\n",
       "    <tr>\n",
       "      <th>9</th>\n",
       "      <td>spotify:track:6NYtqWYqMbnzoEU9jXla80</td>\n",
       "      <td>Taking You There</td>\n",
       "      <td>[7000, 3280, 6443, 16138, 16637, 438, 20218, 1...</td>\n",
       "      <td>8</td>\n",
       "    </tr>\n",
       "  </tbody>\n",
       "</table>\n",
       "</div>"
      ],
      "text/plain": [
       "                               track_id                           track_name  \\\n",
       "0  spotify:track:3uvsVUrAaGQJCTEUR1S3Sx                                 Bare   \n",
       "1  spotify:track:0heE5tAAaDQmnGhVDImPl2                              Dynasty   \n",
       "2  spotify:track:3omXshBamrREltcf24gYDC                                First   \n",
       "3  spotify:track:6TYWE19e35N7Bn5heHwyY6                            Your Girl   \n",
       "4  spotify:track:1xznGGDReH1oQq0xzbwXa3                            One Dance   \n",
       "5  spotify:track:0yy6a8NCTaaVQwyEPIi8UU  Like It Doesn't Hurt (feat. Husser)   \n",
       "6  spotify:track:4vb4mFvYsr2h6enhjJsq9Y               Water Under the Bridge   \n",
       "7  spotify:track:4DMg5fvBfDLannugAGN2QG                           Sweet Jane   \n",
       "8  spotify:track:1Jx5IdnXAJCKZ8EuczL5gX                          Black Water   \n",
       "9  spotify:track:6NYtqWYqMbnzoEU9jXla80                     Taking You There   \n",
       "\n",
       "                                     playlist_vector  frequency  \n",
       "0                         [7000, 6519, 19095, 11643]          4  \n",
       "1  [7000, 6257, 8212, 16246, 10028, 673, 859, 550...         10  \n",
       "2  [7000, 7017, 7156, 7268, 7278, 7303, 7487, 753...        203  \n",
       "3  [7000, 7095, 3325, 2414, 16125, 16161, 9815, 1...         12  \n",
       "4  [7000, 7038, 7054, 7054, 7061, 7071, 7080, 708...        837  \n",
       "5             [7000, 3307, 769, 11249, 20063, 12395]          6  \n",
       "6  [7000, 7493, 7630, 7706, 3061, 3179, 3834, 627...         89  \n",
       "7                    [7000, 7706, 7868, 6000, 11504]          5  \n",
       "8        [7000, 7699, 7906, 8130, 16132, 9729, 9886]          7  \n",
       "9  [7000, 3280, 6443, 16138, 16637, 438, 20218, 1...          8  "
      ]
     },
     "execution_count": 7,
     "metadata": {},
     "output_type": "execute_result"
    }
   ],
   "source": [
    "print(len(df_unique_tracks))\n",
    "df_unique_tracks.head(10)"
   ]
  },
  {
   "cell_type": "code",
   "execution_count": 8,
   "metadata": {},
   "outputs": [
    {
     "name": "stdout",
     "output_type": "stream",
     "text": [
      "120570\n"
     ]
    },
    {
     "data": {
      "text/html": [
       "<div>\n",
       "<style scoped>\n",
       "    .dataframe tbody tr th:only-of-type {\n",
       "        vertical-align: middle;\n",
       "    }\n",
       "\n",
       "    .dataframe tbody tr th {\n",
       "        vertical-align: top;\n",
       "    }\n",
       "\n",
       "    .dataframe thead th {\n",
       "        text-align: right;\n",
       "    }\n",
       "</style>\n",
       "<table border=\"1\" class=\"dataframe\">\n",
       "  <thead>\n",
       "    <tr style=\"text-align: right;\">\n",
       "      <th></th>\n",
       "      <th>album_id</th>\n",
       "      <th>album_name</th>\n",
       "      <th>frequency</th>\n",
       "    </tr>\n",
       "  </thead>\n",
       "  <tbody>\n",
       "    <tr>\n",
       "      <th>0</th>\n",
       "      <td>spotify:album:2kIoMj5Ht14l2PnNRa2abC</td>\n",
       "      <td>Bare</td>\n",
       "      <td>4</td>\n",
       "    </tr>\n",
       "    <tr>\n",
       "      <th>1</th>\n",
       "      <td>spotify:album:3g7TTE6375PGIBsM9Tlk9I</td>\n",
       "      <td>Dynasty</td>\n",
       "      <td>10</td>\n",
       "    </tr>\n",
       "    <tr>\n",
       "      <th>2</th>\n",
       "      <td>spotify:album:2H09itV5a5yUcGyk9u9HwY</td>\n",
       "      <td>Hold My Home</td>\n",
       "      <td>203</td>\n",
       "    </tr>\n",
       "    <tr>\n",
       "      <th>3</th>\n",
       "      <td>spotify:album:38y7zXf95O9Afh7ZXIoyq1</td>\n",
       "      <td>Your Girl</td>\n",
       "      <td>12</td>\n",
       "    </tr>\n",
       "    <tr>\n",
       "      <th>4</th>\n",
       "      <td>spotify:album:3hARKC8cinq3mZLLAEaBh9</td>\n",
       "      <td>Views</td>\n",
       "      <td>2174</td>\n",
       "    </tr>\n",
       "    <tr>\n",
       "      <th>5</th>\n",
       "      <td>spotify:album:03Mt9e0CBDHql28QNn4gbT</td>\n",
       "      <td>Main Girl</td>\n",
       "      <td>12</td>\n",
       "    </tr>\n",
       "    <tr>\n",
       "      <th>6</th>\n",
       "      <td>spotify:album:0K4pIOOsfJ9lK8OjrZfXzd</td>\n",
       "      <td>25</td>\n",
       "      <td>885</td>\n",
       "    </tr>\n",
       "    <tr>\n",
       "      <th>7</th>\n",
       "      <td>spotify:album:0Bc6vNUNCliO2yIDtpGNL6</td>\n",
       "      <td>That Low and Lonesome Sound</td>\n",
       "      <td>5</td>\n",
       "    </tr>\n",
       "    <tr>\n",
       "      <th>8</th>\n",
       "      <td>spotify:album:4PAyBqzCYoIIjjPFszeqgT</td>\n",
       "      <td>Beneath The Skin</td>\n",
       "      <td>64</td>\n",
       "    </tr>\n",
       "    <tr>\n",
       "      <th>9</th>\n",
       "      <td>spotify:album:17vQyc1dhEyxV6q5AxOWh8</td>\n",
       "      <td>Broods</td>\n",
       "      <td>64</td>\n",
       "    </tr>\n",
       "  </tbody>\n",
       "</table>\n",
       "</div>"
      ],
      "text/plain": [
       "                               album_id                   album_name  \\\n",
       "0  spotify:album:2kIoMj5Ht14l2PnNRa2abC                         Bare   \n",
       "1  spotify:album:3g7TTE6375PGIBsM9Tlk9I                      Dynasty   \n",
       "2  spotify:album:2H09itV5a5yUcGyk9u9HwY                 Hold My Home   \n",
       "3  spotify:album:38y7zXf95O9Afh7ZXIoyq1                    Your Girl   \n",
       "4  spotify:album:3hARKC8cinq3mZLLAEaBh9                        Views   \n",
       "5  spotify:album:03Mt9e0CBDHql28QNn4gbT                    Main Girl   \n",
       "6  spotify:album:0K4pIOOsfJ9lK8OjrZfXzd                           25   \n",
       "7  spotify:album:0Bc6vNUNCliO2yIDtpGNL6  That Low and Lonesome Sound   \n",
       "8  spotify:album:4PAyBqzCYoIIjjPFszeqgT             Beneath The Skin   \n",
       "9  spotify:album:17vQyc1dhEyxV6q5AxOWh8                       Broods   \n",
       "\n",
       "   frequency  \n",
       "0          4  \n",
       "1         10  \n",
       "2        203  \n",
       "3         12  \n",
       "4       2174  \n",
       "5         12  \n",
       "6        885  \n",
       "7          5  \n",
       "8         64  \n",
       "9         64  "
      ]
     },
     "execution_count": 8,
     "metadata": {},
     "output_type": "execute_result"
    }
   ],
   "source": [
    "print(len(df_unique_albums))\n",
    "df_unique_albums.head(10)"
   ]
  },
  {
   "cell_type": "markdown",
   "metadata": {},
   "source": [
    "### 3.5 Data Statistics & Distribution <a id='3.5_Data_Statistics_and_Distribution'></a>"
   ]
  },
  {
   "cell_type": "markdown",
   "metadata": {},
   "source": [
    "### 3.5.1 Data Statistics <a id='3.5.1_Data_Statistics'></a>"
   ]
  },
  {
   "cell_type": "code",
   "execution_count": 9,
   "metadata": {},
   "outputs": [
    {
     "data": {
      "text/html": [
       "<div>\n",
       "<style scoped>\n",
       "    .dataframe tbody tr th:only-of-type {\n",
       "        vertical-align: middle;\n",
       "    }\n",
       "\n",
       "    .dataframe tbody tr th {\n",
       "        vertical-align: top;\n",
       "    }\n",
       "\n",
       "    .dataframe thead th {\n",
       "        text-align: right;\n",
       "    }\n",
       "</style>\n",
       "<table border=\"1\" class=\"dataframe\">\n",
       "  <thead>\n",
       "    <tr style=\"text-align: right;\">\n",
       "      <th></th>\n",
       "      <th>pid</th>\n",
       "      <th>modified_at</th>\n",
       "      <th>num_tracks</th>\n",
       "      <th>num_albums</th>\n",
       "      <th>num_followers</th>\n",
       "      <th>num_edits</th>\n",
       "      <th>duration_ms</th>\n",
       "      <th>num_artists</th>\n",
       "    </tr>\n",
       "  </thead>\n",
       "  <tbody>\n",
       "    <tr>\n",
       "      <th>count</th>\n",
       "      <td>20000.000000</td>\n",
       "      <td>2.000000e+04</td>\n",
       "      <td>20000.000000</td>\n",
       "      <td>20000.000000</td>\n",
       "      <td>20000.000000</td>\n",
       "      <td>20000.000000</td>\n",
       "      <td>2.000000e+04</td>\n",
       "      <td>20000.000000</td>\n",
       "    </tr>\n",
       "    <tr>\n",
       "      <th>mean</th>\n",
       "      <td>10799.500000</td>\n",
       "      <td>1.476559e+09</td>\n",
       "      <td>66.598100</td>\n",
       "      <td>49.749900</td>\n",
       "      <td>2.788700</td>\n",
       "      <td>17.851300</td>\n",
       "      <td>1.562522e+07</td>\n",
       "      <td>38.211200</td>\n",
       "    </tr>\n",
       "    <tr>\n",
       "      <th>std</th>\n",
       "      <td>6057.653672</td>\n",
       "      <td>3.653277e+07</td>\n",
       "      <td>53.771169</td>\n",
       "      <td>40.031271</td>\n",
       "      <td>116.383069</td>\n",
       "      <td>20.871964</td>\n",
       "      <td>1.286244e+07</td>\n",
       "      <td>30.413355</td>\n",
       "    </tr>\n",
       "    <tr>\n",
       "      <th>min</th>\n",
       "      <td>0.000000</td>\n",
       "      <td>1.310602e+09</td>\n",
       "      <td>5.000000</td>\n",
       "      <td>2.000000</td>\n",
       "      <td>1.000000</td>\n",
       "      <td>2.000000</td>\n",
       "      <td>5.710860e+05</td>\n",
       "      <td>3.000000</td>\n",
       "    </tr>\n",
       "    <tr>\n",
       "      <th>25%</th>\n",
       "      <td>5999.750000</td>\n",
       "      <td>1.459123e+09</td>\n",
       "      <td>26.000000</td>\n",
       "      <td>20.000000</td>\n",
       "      <td>1.000000</td>\n",
       "      <td>5.000000</td>\n",
       "      <td>6.064626e+06</td>\n",
       "      <td>16.000000</td>\n",
       "    </tr>\n",
       "    <tr>\n",
       "      <th>50%</th>\n",
       "      <td>10999.500000</td>\n",
       "      <td>1.490573e+09</td>\n",
       "      <td>50.000000</td>\n",
       "      <td>37.000000</td>\n",
       "      <td>1.000000</td>\n",
       "      <td>10.000000</td>\n",
       "      <td>1.151855e+07</td>\n",
       "      <td>30.000000</td>\n",
       "    </tr>\n",
       "    <tr>\n",
       "      <th>75%</th>\n",
       "      <td>15999.250000</td>\n",
       "      <td>1.505606e+09</td>\n",
       "      <td>92.000000</td>\n",
       "      <td>68.000000</td>\n",
       "      <td>1.000000</td>\n",
       "      <td>22.000000</td>\n",
       "      <td>2.143368e+07</td>\n",
       "      <td>52.000000</td>\n",
       "    </tr>\n",
       "    <tr>\n",
       "      <th>max</th>\n",
       "      <td>20999.000000</td>\n",
       "      <td>1.509494e+09</td>\n",
       "      <td>250.000000</td>\n",
       "      <td>233.000000</td>\n",
       "      <td>15842.000000</td>\n",
       "      <td>178.000000</td>\n",
       "      <td>9.818810e+07</td>\n",
       "      <td>199.000000</td>\n",
       "    </tr>\n",
       "  </tbody>\n",
       "</table>\n",
       "</div>"
      ],
      "text/plain": [
       "                pid   modified_at    num_tracks    num_albums  num_followers  \\\n",
       "count  20000.000000  2.000000e+04  20000.000000  20000.000000   20000.000000   \n",
       "mean   10799.500000  1.476559e+09     66.598100     49.749900       2.788700   \n",
       "std     6057.653672  3.653277e+07     53.771169     40.031271     116.383069   \n",
       "min        0.000000  1.310602e+09      5.000000      2.000000       1.000000   \n",
       "25%     5999.750000  1.459123e+09     26.000000     20.000000       1.000000   \n",
       "50%    10999.500000  1.490573e+09     50.000000     37.000000       1.000000   \n",
       "75%    15999.250000  1.505606e+09     92.000000     68.000000       1.000000   \n",
       "max    20999.000000  1.509494e+09    250.000000    233.000000   15842.000000   \n",
       "\n",
       "          num_edits   duration_ms   num_artists  \n",
       "count  20000.000000  2.000000e+04  20000.000000  \n",
       "mean      17.851300  1.562522e+07     38.211200  \n",
       "std       20.871964  1.286244e+07     30.413355  \n",
       "min        2.000000  5.710860e+05      3.000000  \n",
       "25%        5.000000  6.064626e+06     16.000000  \n",
       "50%       10.000000  1.151855e+07     30.000000  \n",
       "75%       22.000000  2.143368e+07     52.000000  \n",
       "max      178.000000  9.818810e+07    199.000000  "
      ]
     },
     "execution_count": 9,
     "metadata": {},
     "output_type": "execute_result"
    }
   ],
   "source": [
    "df.describe()"
   ]
  },
  {
   "cell_type": "code",
   "execution_count": 10,
   "metadata": {},
   "outputs": [
    {
     "name": "stdout",
     "output_type": "stream",
     "text": [
      "                pid   modified_at    num_tracks    num_albums  num_followers  \\\n",
      "count  20000.000000  2.000000e+04  20000.000000  20000.000000   20000.000000   \n",
      "mean   10799.500000  1.476559e+09     66.598100     49.749900       2.788700   \n",
      "std     6057.653672  3.653277e+07     53.771169     40.031271     116.383069   \n",
      "min        0.000000  1.310602e+09      5.000000      2.000000       1.000000   \n",
      "25%     5999.750000  1.459123e+09     26.000000     20.000000       1.000000   \n",
      "50%    10999.500000  1.490573e+09     50.000000     37.000000       1.000000   \n",
      "75%    15999.250000  1.505606e+09     92.000000     68.000000       1.000000   \n",
      "max    20999.000000  1.509494e+09    250.000000    233.000000   15842.000000   \n",
      "\n",
      "          num_edits   duration_ms   num_artists  \n",
      "count  20000.000000  2.000000e+04  20000.000000  \n",
      "mean      17.851300  1.562522e+07     38.211200  \n",
      "std       20.871964  1.286244e+07     30.413355  \n",
      "min        2.000000  5.710860e+05      3.000000  \n",
      "25%        5.000000  6.064626e+06     16.000000  \n",
      "50%       10.000000  1.151855e+07     30.000000  \n",
      "75%       22.000000  2.143368e+07     52.000000  \n",
      "max      178.000000  9.818810e+07    199.000000  \n",
      "\n",
      "Total number of playlists: 20000\n",
      "Total number of tracks: 1331962\n",
      "Total number of `unique` tracks: 263214\n",
      "Total number of albums: 994998\n",
      "Total number of `unique` albums: 120570\n",
      "\n",
      "The Median value in each playlist:\n",
      "Median of number of tracks in each playlist: 50\n",
      "Median of number of albums in each playlist: 37\n",
      "Median of number of followers in each playlist: 1\n",
      "Median of number of edits in each playlist: 1\n",
      "Median of number of durations in each playlist: 11518545 (ms) ~ 191 minutes ~ 3 hours\n",
      "Median of number of num_artists in each playlist: 30\n"
     ]
    }
   ],
   "source": [
    "ms_to_min = 1.66667e-5\n",
    "ms_to_hour = 2.77778e-7\n",
    "med_duration_ms = int(df['duration_ms'].median())\n",
    "\n",
    "print(df.describe())\n",
    "\n",
    "print()\n",
    "print(f\"Total number of playlists: {df['pid'].count()}\")\n",
    "print(f\"Total number of tracks: {df['num_tracks'].sum()}\")\n",
    "print(f\"Total number of `unique` tracks: {len(track_dict)}\")\n",
    "print(f\"Total number of albums: {df['num_albums'].sum()}\")\n",
    "print(f\"Total number of `unique` albums: {len(album_dict)}\")\n",
    "\n",
    "print()\n",
    "print('The Median value in each playlist:')\n",
    "print(f\"Median of number of tracks in each playlist: {int(df['num_tracks'].median())}\")\n",
    "print(f\"Median of number of albums in each playlist: {int(df['num_albums'].median())}\")\n",
    "print(f\"Median of number of followers in each playlist: {int(df['num_followers'].median())}\")\n",
    "print(f\"Median of number of edits in each playlist: {int(df['num_followers'].median())}\")\n",
    "print(f\"Median of number of durations in each playlist: {med_duration_ms} (ms) ~ {int(med_duration_ms * ms_to_min)} minutes ~ {int(med_duration_ms * ms_to_hour)} hours\")\n",
    "print(f\"Median of number of num_artists in each playlist: {int(df['num_artists'].median())}\")"
   ]
  },
  {
   "cell_type": "markdown",
   "metadata": {},
   "source": [
    "### Cleaning...\n",
    "Inspection: \n",
    "- num_followers: evidence of outlier\n",
    "- description: mostly NaN "
   ]
  },
  {
   "cell_type": "code",
   "execution_count": 11,
   "metadata": {},
   "outputs": [
    {
     "data": {
      "text/plain": [
       "name             1957\n",
       "collaborative    1957\n",
       "pid              1957\n",
       "modified_at      1957\n",
       "num_tracks       1957\n",
       "num_albums       1957\n",
       "num_followers    1957\n",
       "tracks           1957\n",
       "num_edits        1957\n",
       "duration_ms      1957\n",
       "num_artists      1957\n",
       "description        81\n",
       "dtype: int64"
      ]
     },
     "execution_count": 11,
     "metadata": {},
     "output_type": "execute_result"
    }
   ],
   "source": [
    "#df[df['num_followers'] < 15842].count()\n",
    "#df[df['num_followers'] > 50].count()\n",
    "#df[df['num_followers'] < 2].count()\n",
    "df[df['num_followers'] > 2].count()"
   ]
  },
  {
   "cell_type": "markdown",
   "metadata": {},
   "source": [
    "### 3.5.2 Distribution <a id='3.5.2_Distribution'></a>"
   ]
  },
  {
   "cell_type": "code",
   "execution_count": 12,
   "metadata": {},
   "outputs": [
    {
     "data": {
      "text/plain": [
       "<Figure size 576x1080 with 0 Axes>"
      ]
     },
     "metadata": {},
     "output_type": "display_data"
    },
    {
     "data": {
      "image/png": "[encoded data removed]",
      "text/plain": [
       "<Figure size 432x288 with 6 Axes>"
      ]
     },
     "metadata": {
      "needs_background": "light"
     },
     "output_type": "display_data"
    }
   ],
   "source": [
    "plt.figure(figsize=(8, 15))\n",
    "df.hist(column=['duration_ms','num_albums','num_artists','num_edits','num_followers','num_tracks'])\n",
    "plt.tight_layout()\n",
    "plt.show()"
   ]
  },
  {
   "cell_type": "markdown",
   "metadata": {},
   "source": [
    "## 3.6 Visualization <a id='3.6_Visualization'></a>"
   ]
  },
  {
   "cell_type": "markdown",
   "metadata": {},
   "source": [
    "### 3.6.1 Top 10 Popular Playlists <a id='3.6.1_Top_10_Popular_Playlists'></a>"
   ]
  },
  {
   "cell_type": "code",
   "execution_count": 13,
   "metadata": {},
   "outputs": [
    {
     "data": {
      "image/png": "[encoded data removed]",
      "text/plain": [
       "<Figure size 432x288 with 1 Axes>"
      ]
     },
     "metadata": {
      "needs_background": "light"
     },
     "output_type": "display_data"
    }
   ],
   "source": [
    "# The playlists that have more followers are considered as more popular\n",
    "top_10_playlist = df.sort_values(by=['num_followers'], ascending = False).head(10)\n",
    "\n",
    "\n",
    "top_10_playlist.plot(kind='bar', x='name', y='num_followers')\n",
    "plt.title('Top 10 popular Spotify playlists')\n",
    "plt.xlabel('Playlist Name')\n",
    "plt.ylabel('Number of followers')\n",
    "\n",
    "plt.show()\n"
   ]
  },
  {
   "cell_type": "markdown",
   "metadata": {},
   "source": [
    "### 3.6.2 Top 10 Popular Tracks <a id='3.6.2_Top_10_Popular_Tracks'></a>"
   ]
  },
  {
   "cell_type": "code",
   "execution_count": 14,
   "metadata": {},
   "outputs": [
    {
     "data": {
      "image/png": "[encoded data removed]",
      "text/plain": [
       "<Figure size 432x288 with 1 Axes>"
      ]
     },
     "metadata": {
      "needs_background": "light"
     },
     "output_type": "display_data"
    }
   ],
   "source": [
    "top_10_tracks = df_unique_tracks.sort_values(by=['frequency'], ascending = False).head(10)\n",
    "\n",
    "\n",
    "top_10_tracks.plot(kind='bar', x='track_name', y='frequency')\n",
    "plt.title('Top 10 popular Spotify tracks')\n",
    "plt.xlabel('Track Name')\n",
    "plt.ylabel('Frequency')\n",
    "\n",
    "plt.show()"
   ]
  },
  {
   "cell_type": "markdown",
   "metadata": {},
   "source": [
    "### 3.6.3 Top 10 Popular Albums <a id='3.6.3_Top_10_Popular_Albums'></a>\n"
   ]
  },
  {
   "cell_type": "code",
   "execution_count": 16,
   "metadata": {},
   "outputs": [
    {
     "data": {
      "image/png": "[encoded data removed]",
      "text/plain": [
       "<Figure size 432x288 with 1 Axes>"
      ]
     },
     "metadata": {
      "needs_background": "light"
     },
     "output_type": "display_data"
    }
   ],
   "source": [
    "top_10_albums = df_unique_albums.sort_values(by=['frequency'], ascending = False).head(10)\n",
    "\n",
    "\n",
    "top_10_albums.plot(kind='bar', x='album_name', y='frequency')\n",
    "plt.title('Top 10 popular Spotify albums')\n",
    "plt.xlabel('Album Name')\n",
    "plt.ylabel('Frequency')\n",
    "\n",
    "plt.show()"
   ]
  }
 ],
 "metadata": {
  "kernelspec": {
   "display_name": "Python 3",
   "language": "python",
   "name": "python3"
  },
  "language_info": {
   "codemirror_mode": {
    "name": "ipython",
    "version": 3
   },
   "file_extension": ".py",
   "mimetype": "text/x-python",
   "name": "python",
   "nbconvert_exporter": "python",
   "pygments_lexer": "ipython3",
   "version": "3.8.3"
  }
 },
 "nbformat": 4,
 "nbformat_minor": 4
}
