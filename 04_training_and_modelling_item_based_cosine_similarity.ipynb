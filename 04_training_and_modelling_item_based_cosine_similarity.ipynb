{
 "cells": [
  {
   "cell_type": "markdown",
   "metadata": {},
   "source": [
    "# 4. Training and Modelling Item Based Cosine Similarity<a id='4.A_Training_and_Modelling_Item_Based_Cosine_Similarity'></a>"
   ]
  },
  {
   "cell_type": "markdown",
   "metadata": {},
   "source": [
    "## 4.1 Contents<a id='4.1_Contents'></a>\n",
    "* [4. Training and Modelling Item Based Cosine Similarity ](#4._Training_and_Modelling_Item_Based_Cosine_Similarity)\n",
    "  * [4.1 Contents](#4.1_Contents)\n",
    "  * [4.2 Imports](#4.2_Imports)\n",
    "  * [4.3 Load The Data](#4.3_Load_The_Data)\n",
    "  * [4.4 Extract The Data](#4.4_Extract_The_Data)\n",
    "       * [4.4.1 Train Test Split For Playlist](#4.4.1_Train_Test_Split_For_Playlist)\n",
    "       * [4.4.2 Manipulating The Data](#4.4.2_Manipulating_The_Data)\n",
    "  * [4.5 Modeling Using Cosine Similarity](#4.5_Modeling_Using_Cosine_Similarity)\n",
    "      * [4.5.1 The Compressed Dot Product Algorithm](#4.5.1_The_Compressed_Dot_Product_Algorithm)\n",
    "       * [4.5.2 Cosine Similarity Between Two Songs](#4.5.2_Cosine_Similarity_Between_Two_Songs)\n",
    "             * [4.5.2.1 Example](#4.5.2.1_Example)\n",
    "      * [4.5.3 Recommendation Score For A Single Track](#4.5.3_Recommendation_Score_For_A_Single_Track)\n",
    "      * [4.5.4 Example: Top 20 Recommendation Songs For One Playlist](#4.5.4_Example_Top_20_Recommendation_Songs_For_One_Playlist)\n",
    "  * [4.6 Metrics and Evaluation](#4.6_Metrics_and_Evaluation)\n",
    "       * [4.6.1 R_Precision](#4.6.1_R_Precision)\n",
    "       * [4.6.2 Song Clicks](#4.6.2_Song_Clicks)\n",
    "       * [4.6.3 Normalized Discounted Cumulative_Gain(NDCG)](#4.6.3_Normalized_Discounted_Cumulative_Gain)"
   ]
  },
  {
   "cell_type": "markdown",
   "metadata": {},
   "source": [
    "## 4.2 Imports<a id='4.2_Imports'></a>"
   ]
  },
  {
   "cell_type": "code",
   "execution_count": 1,
   "metadata": {},
   "outputs": [
    {
     "name": "stdout",
     "output_type": "stream",
     "text": [
      "importing Jupyter notebook from help_functions.ipynb\n"
     ]
    }
   ],
   "source": [
    "# Install and import other jupyter notebook\n",
    "# !pip install ipynb\n",
    "import import_ipynb\n",
    "\n",
    "\n",
    "import json\n",
    "import pandas as pd\n",
    "import matplotlib.pyplot as plt\n",
    "import seaborn as sns\n",
    "import os\n",
    "import glob, collections\n",
    "from sklearn.model_selection import train_test_split\n",
    "\n",
    "from help_functions import *"
   ]
  },
  {
   "cell_type": "markdown",
   "metadata": {},
   "source": [
    "## 4.3 Load The Data<a id='4.3_Load_The_Data'></a>"
   ]
  },
  {
   "cell_type": "code",
   "execution_count": 2,
   "metadata": {},
   "outputs": [],
   "source": [
    "# path = \"spotify_million_playlist_dataset/data/\"\n",
    "# file_name = \"mpd.slice.0-999.json\"\n",
    "\n",
    "# # Load the first single json file \n",
    "# data = json.load(open(path + file_name))\n",
    "\n",
    "# # Read json as DataFrame\n",
    "# df = pd.DataFrame(data['playlists'])"
   ]
  },
  {
   "cell_type": "code",
   "execution_count": 3,
   "metadata": {},
   "outputs": [],
   "source": [
    "read_files = glob.glob(\"spotify_million_playlist_dataset/data/*.json\")\n",
    "df = pd.DataFrame()\n",
    "\n",
    "for f in read_files:\n",
    "    with open(f, \"rb\") as infile:\n",
    "        data = json.load(infile)\n",
    "        each_json_file = pd.DataFrame(data['playlists'])\n",
    "        df = df.append(each_json_file)"
   ]
  },
  {
   "cell_type": "code",
   "execution_count": 4,
   "metadata": {},
   "outputs": [
    {
     "data": {
      "text/html": [
       "<div>\n",
       "<style scoped>\n",
       "    .dataframe tbody tr th:only-of-type {\n",
       "        vertical-align: middle;\n",
       "    }\n",
       "\n",
       "    .dataframe tbody tr th {\n",
       "        vertical-align: top;\n",
       "    }\n",
       "\n",
       "    .dataframe thead th {\n",
       "        text-align: right;\n",
       "    }\n",
       "</style>\n",
       "<table border=\"1\" class=\"dataframe\">\n",
       "  <thead>\n",
       "    <tr style=\"text-align: right;\">\n",
       "      <th></th>\n",
       "      <th>name</th>\n",
       "      <th>collaborative</th>\n",
       "      <th>pid</th>\n",
       "      <th>modified_at</th>\n",
       "      <th>num_tracks</th>\n",
       "      <th>num_albums</th>\n",
       "      <th>num_followers</th>\n",
       "      <th>tracks</th>\n",
       "      <th>num_edits</th>\n",
       "      <th>duration_ms</th>\n",
       "      <th>num_artists</th>\n",
       "      <th>description</th>\n",
       "    </tr>\n",
       "  </thead>\n",
       "  <tbody>\n",
       "    <tr>\n",
       "      <th>0</th>\n",
       "      <td>NewNew</td>\n",
       "      <td>false</td>\n",
       "      <td>7000</td>\n",
       "      <td>1509321600</td>\n",
       "      <td>83</td>\n",
       "      <td>78</td>\n",
       "      <td>2</td>\n",
       "      <td>[{'pos': 0, 'artist_name': 'WILDES', 'track_ur...</td>\n",
       "      <td>49</td>\n",
       "      <td>18461552</td>\n",
       "      <td>72</td>\n",
       "      <td>NaN</td>\n",
       "    </tr>\n",
       "    <tr>\n",
       "      <th>1</th>\n",
       "      <td>chilllll</td>\n",
       "      <td>false</td>\n",
       "      <td>7001</td>\n",
       "      <td>1506902400</td>\n",
       "      <td>18</td>\n",
       "      <td>15</td>\n",
       "      <td>1</td>\n",
       "      <td>[{'pos': 0, 'artist_name': 'Angus &amp; Julia Ston...</td>\n",
       "      <td>8</td>\n",
       "      <td>4031475</td>\n",
       "      <td>10</td>\n",
       "      <td>NaN</td>\n",
       "    </tr>\n",
       "    <tr>\n",
       "      <th>2</th>\n",
       "      <td>offline</td>\n",
       "      <td>false</td>\n",
       "      <td>7002</td>\n",
       "      <td>1505433600</td>\n",
       "      <td>63</td>\n",
       "      <td>48</td>\n",
       "      <td>1</td>\n",
       "      <td>[{'pos': 0, 'artist_name': 'Keith Urban', 'tra...</td>\n",
       "      <td>16</td>\n",
       "      <td>15021695</td>\n",
       "      <td>45</td>\n",
       "      <td>NaN</td>\n",
       "    </tr>\n",
       "  </tbody>\n",
       "</table>\n",
       "</div>"
      ],
      "text/plain": [
       "       name collaborative   pid  modified_at  num_tracks  num_albums  \\\n",
       "0    NewNew         false  7000   1509321600          83          78   \n",
       "1  chilllll         false  7001   1506902400          18          15   \n",
       "2  offline          false  7002   1505433600          63          48   \n",
       "\n",
       "   num_followers                                             tracks  \\\n",
       "0              2  [{'pos': 0, 'artist_name': 'WILDES', 'track_ur...   \n",
       "1              1  [{'pos': 0, 'artist_name': 'Angus & Julia Ston...   \n",
       "2              1  [{'pos': 0, 'artist_name': 'Keith Urban', 'tra...   \n",
       "\n",
       "   num_edits  duration_ms  num_artists description  \n",
       "0         49     18461552           72         NaN  \n",
       "1          8      4031475           10         NaN  \n",
       "2         16     15021695           45         NaN  "
      ]
     },
     "execution_count": 4,
     "metadata": {},
     "output_type": "execute_result"
    }
   ],
   "source": [
    "df.head(3)"
   ]
  },
  {
   "cell_type": "markdown",
   "metadata": {},
   "source": [
    "## 4.4 Extract The Data<a id='4.4_Extract_The_Data'></a>"
   ]
  },
  {
   "cell_type": "code",
   "execution_count": 5,
   "metadata": {},
   "outputs": [
    {
     "data": {
      "text/html": [
       "<div>\n",
       "<style scoped>\n",
       "    .dataframe tbody tr th:only-of-type {\n",
       "        vertical-align: middle;\n",
       "    }\n",
       "\n",
       "    .dataframe tbody tr th {\n",
       "        vertical-align: top;\n",
       "    }\n",
       "\n",
       "    .dataframe thead th {\n",
       "        text-align: right;\n",
       "    }\n",
       "</style>\n",
       "<table border=\"1\" class=\"dataframe\">\n",
       "  <thead>\n",
       "    <tr style=\"text-align: right;\">\n",
       "      <th></th>\n",
       "      <th>name</th>\n",
       "      <th>pid</th>\n",
       "      <th>num_tracks</th>\n",
       "      <th>tracks</th>\n",
       "      <th>num_albums</th>\n",
       "      <th>num_artists</th>\n",
       "    </tr>\n",
       "  </thead>\n",
       "  <tbody>\n",
       "    <tr>\n",
       "      <th>0</th>\n",
       "      <td>NewNew</td>\n",
       "      <td>7000</td>\n",
       "      <td>83</td>\n",
       "      <td>[{'pos': 0, 'artist_name': 'WILDES', 'track_ur...</td>\n",
       "      <td>78</td>\n",
       "      <td>72</td>\n",
       "    </tr>\n",
       "    <tr>\n",
       "      <th>1</th>\n",
       "      <td>chilllll</td>\n",
       "      <td>7001</td>\n",
       "      <td>18</td>\n",
       "      <td>[{'pos': 0, 'artist_name': 'Angus &amp; Julia Ston...</td>\n",
       "      <td>15</td>\n",
       "      <td>10</td>\n",
       "    </tr>\n",
       "    <tr>\n",
       "      <th>2</th>\n",
       "      <td>offline</td>\n",
       "      <td>7002</td>\n",
       "      <td>63</td>\n",
       "      <td>[{'pos': 0, 'artist_name': 'Keith Urban', 'tra...</td>\n",
       "      <td>48</td>\n",
       "      <td>45</td>\n",
       "    </tr>\n",
       "    <tr>\n",
       "      <th>3</th>\n",
       "      <td>feels</td>\n",
       "      <td>7003</td>\n",
       "      <td>97</td>\n",
       "      <td>[{'pos': 0, 'artist_name': 'Chance The Rapper'...</td>\n",
       "      <td>51</td>\n",
       "      <td>27</td>\n",
       "    </tr>\n",
       "    <tr>\n",
       "      <th>4</th>\n",
       "      <td>Latin Dance</td>\n",
       "      <td>7004</td>\n",
       "      <td>23</td>\n",
       "      <td>[{'pos': 0, 'artist_name': 'Merengue Latin Ban...</td>\n",
       "      <td>20</td>\n",
       "      <td>11</td>\n",
       "    </tr>\n",
       "  </tbody>\n",
       "</table>\n",
       "</div>"
      ],
      "text/plain": [
       "          name   pid  num_tracks  \\\n",
       "0       NewNew  7000          83   \n",
       "1     chilllll  7001          18   \n",
       "2     offline   7002          63   \n",
       "3        feels  7003          97   \n",
       "4  Latin Dance  7004          23   \n",
       "\n",
       "                                              tracks  num_albums  num_artists  \n",
       "0  [{'pos': 0, 'artist_name': 'WILDES', 'track_ur...          78           72  \n",
       "1  [{'pos': 0, 'artist_name': 'Angus & Julia Ston...          15           10  \n",
       "2  [{'pos': 0, 'artist_name': 'Keith Urban', 'tra...          48           45  \n",
       "3  [{'pos': 0, 'artist_name': 'Chance The Rapper'...          51           27  \n",
       "4  [{'pos': 0, 'artist_name': 'Merengue Latin Ban...          20           11  "
      ]
     },
     "execution_count": 5,
     "metadata": {},
     "output_type": "execute_result"
    }
   ],
   "source": [
    "# Only include useful columns\n",
    "df = df.loc[:, ['name', 'pid', 'num_tracks', 'tracks', 'num_albums', 'num_artists']]\n",
    "df.head()"
   ]
  },
  {
   "cell_type": "markdown",
   "metadata": {},
   "source": [
    "## 4.4.1 Train/Test Split For Playlist<a id='4.4.1_Train_Test_Split_For_Playlist'></a>"
   ]
  },
  {
   "cell_type": "code",
   "execution_count": 6,
   "metadata": {},
   "outputs": [
    {
     "name": "stdout",
     "output_type": "stream",
     "text": [
      "Number of playlist in Train set: 16000\n",
      "Number of playlist in Test set: 4000\n"
     ]
    }
   ],
   "source": [
    "from sklearn.model_selection import train_test_split\n",
    "\n",
    "X_train, X_test = train_test_split(df, test_size=0.2, random_state=42)\n",
    "\n",
    "print(f\"Number of playlist in Train set: {len(X_train)}\")\n",
    "print(f\"Number of playlist in Test set: {len(X_test)}\")"
   ]
  },
  {
   "cell_type": "code",
   "execution_count": 7,
   "metadata": {},
   "outputs": [
    {
     "data": {
      "text/html": [
       "<div>\n",
       "<style scoped>\n",
       "    .dataframe tbody tr th:only-of-type {\n",
       "        vertical-align: middle;\n",
       "    }\n",
       "\n",
       "    .dataframe tbody tr th {\n",
       "        vertical-align: top;\n",
       "    }\n",
       "\n",
       "    .dataframe thead th {\n",
       "        text-align: right;\n",
       "    }\n",
       "</style>\n",
       "<table border=\"1\" class=\"dataframe\">\n",
       "  <thead>\n",
       "    <tr style=\"text-align: right;\">\n",
       "      <th></th>\n",
       "      <th>name</th>\n",
       "      <th>pid</th>\n",
       "      <th>num_tracks</th>\n",
       "      <th>tracks</th>\n",
       "      <th>num_albums</th>\n",
       "      <th>num_artists</th>\n",
       "    </tr>\n",
       "  </thead>\n",
       "  <tbody>\n",
       "    <tr>\n",
       "      <th>894</th>\n",
       "      <td>Shower songs</td>\n",
       "      <td>13894</td>\n",
       "      <td>129</td>\n",
       "      <td>[{'pos': 0, 'artist_name': 'Justin Timberlake'...</td>\n",
       "      <td>115</td>\n",
       "      <td>93</td>\n",
       "    </tr>\n",
       "    <tr>\n",
       "      <th>728</th>\n",
       "      <td>chill</td>\n",
       "      <td>19728</td>\n",
       "      <td>66</td>\n",
       "      <td>[{'pos': 0, 'artist_name': 'Nohidea', 'track_u...</td>\n",
       "      <td>53</td>\n",
       "      <td>43</td>\n",
       "    </tr>\n",
       "    <tr>\n",
       "      <th>958</th>\n",
       "      <td>warriors</td>\n",
       "      <td>9958</td>\n",
       "      <td>23</td>\n",
       "      <td>[{'pos': 0, 'artist_name': 'Florida State Univ...</td>\n",
       "      <td>20</td>\n",
       "      <td>18</td>\n",
       "    </tr>\n",
       "    <tr>\n",
       "      <th>671</th>\n",
       "      <td>June 2015</td>\n",
       "      <td>16671</td>\n",
       "      <td>13</td>\n",
       "      <td>[{'pos': 0, 'artist_name': 'Kopecky', 'track_u...</td>\n",
       "      <td>13</td>\n",
       "      <td>13</td>\n",
       "    </tr>\n",
       "    <tr>\n",
       "      <th>999</th>\n",
       "      <td>Worship</td>\n",
       "      <td>13999</td>\n",
       "      <td>129</td>\n",
       "      <td>[{'pos': 0, 'artist_name': 'Hillsong United', ...</td>\n",
       "      <td>53</td>\n",
       "      <td>30</td>\n",
       "    </tr>\n",
       "  </tbody>\n",
       "</table>\n",
       "</div>"
      ],
      "text/plain": [
       "              name    pid  num_tracks  \\\n",
       "894  Shower songs   13894         129   \n",
       "728          chill  19728          66   \n",
       "958       warriors   9958          23   \n",
       "671      June 2015  16671          13   \n",
       "999        Worship  13999         129   \n",
       "\n",
       "                                                tracks  num_albums  \\\n",
       "894  [{'pos': 0, 'artist_name': 'Justin Timberlake'...         115   \n",
       "728  [{'pos': 0, 'artist_name': 'Nohidea', 'track_u...          53   \n",
       "958  [{'pos': 0, 'artist_name': 'Florida State Univ...          20   \n",
       "671  [{'pos': 0, 'artist_name': 'Kopecky', 'track_u...          13   \n",
       "999  [{'pos': 0, 'artist_name': 'Hillsong United', ...          53   \n",
       "\n",
       "     num_artists  \n",
       "894           93  \n",
       "728           43  \n",
       "958           18  \n",
       "671           13  \n",
       "999           30  "
      ]
     },
     "execution_count": 7,
     "metadata": {},
     "output_type": "execute_result"
    }
   ],
   "source": [
    "X_train.head()"
   ]
  },
  {
   "cell_type": "code",
   "execution_count": 8,
   "metadata": {},
   "outputs": [
    {
     "data": {
      "text/html": [
       "<div>\n",
       "<style scoped>\n",
       "    .dataframe tbody tr th:only-of-type {\n",
       "        vertical-align: middle;\n",
       "    }\n",
       "\n",
       "    .dataframe tbody tr th {\n",
       "        vertical-align: top;\n",
       "    }\n",
       "\n",
       "    .dataframe thead th {\n",
       "        text-align: right;\n",
       "    }\n",
       "</style>\n",
       "<table border=\"1\" class=\"dataframe\">\n",
       "  <thead>\n",
       "    <tr style=\"text-align: right;\">\n",
       "      <th></th>\n",
       "      <th>name</th>\n",
       "      <th>pid</th>\n",
       "      <th>num_tracks</th>\n",
       "      <th>tracks</th>\n",
       "      <th>num_albums</th>\n",
       "      <th>num_artists</th>\n",
       "    </tr>\n",
       "  </thead>\n",
       "  <tbody>\n",
       "    <tr>\n",
       "      <th>650</th>\n",
       "      <td>Australia Day</td>\n",
       "      <td>650</td>\n",
       "      <td>41</td>\n",
       "      <td>[{'pos': 0, 'artist_name': 'Mariah Carey', 'tr...</td>\n",
       "      <td>40</td>\n",
       "      <td>39</td>\n",
       "    </tr>\n",
       "    <tr>\n",
       "      <th>41</th>\n",
       "      <td>2k17</td>\n",
       "      <td>6041</td>\n",
       "      <td>27</td>\n",
       "      <td>[{'pos': 0, 'artist_name': 'Demi Lovato', 'tra...</td>\n",
       "      <td>27</td>\n",
       "      <td>27</td>\n",
       "    </tr>\n",
       "    <tr>\n",
       "      <th>668</th>\n",
       "      <td>squad</td>\n",
       "      <td>9668</td>\n",
       "      <td>181</td>\n",
       "      <td>[{'pos': 0, 'artist_name': 'Migos', 'track_uri...</td>\n",
       "      <td>113</td>\n",
       "      <td>75</td>\n",
       "    </tr>\n",
       "    <tr>\n",
       "      <th>114</th>\n",
       "      <td>Chillin</td>\n",
       "      <td>3114</td>\n",
       "      <td>157</td>\n",
       "      <td>[{'pos': 0, 'artist_name': 'William Singe', 't...</td>\n",
       "      <td>136</td>\n",
       "      <td>75</td>\n",
       "    </tr>\n",
       "    <tr>\n",
       "      <th>902</th>\n",
       "      <td>feel good</td>\n",
       "      <td>14902</td>\n",
       "      <td>102</td>\n",
       "      <td>[{'pos': 0, 'artist_name': 'Ben Rector', 'trac...</td>\n",
       "      <td>88</td>\n",
       "      <td>77</td>\n",
       "    </tr>\n",
       "  </tbody>\n",
       "</table>\n",
       "</div>"
      ],
      "text/plain": [
       "              name    pid  num_tracks  \\\n",
       "650  Australia Day    650          41   \n",
       "41            2k17   6041          27   \n",
       "668          squad   9668         181   \n",
       "114       Chillin    3114         157   \n",
       "902      feel good  14902         102   \n",
       "\n",
       "                                                tracks  num_albums  \\\n",
       "650  [{'pos': 0, 'artist_name': 'Mariah Carey', 'tr...          40   \n",
       "41   [{'pos': 0, 'artist_name': 'Demi Lovato', 'tra...          27   \n",
       "668  [{'pos': 0, 'artist_name': 'Migos', 'track_uri...         113   \n",
       "114  [{'pos': 0, 'artist_name': 'William Singe', 't...         136   \n",
       "902  [{'pos': 0, 'artist_name': 'Ben Rector', 'trac...          88   \n",
       "\n",
       "     num_artists  \n",
       "650           39  \n",
       "41            27  \n",
       "668           75  \n",
       "114           75  \n",
       "902           77  "
      ]
     },
     "execution_count": 8,
     "metadata": {},
     "output_type": "execute_result"
    }
   ],
   "source": [
    "X_test.head()"
   ]
  },
  {
   "cell_type": "markdown",
   "metadata": {},
   "source": [
    "## 4.4.2 Manipulating The Data<a id='4.4.2_Manipulating_The_Data'></a>"
   ]
  },
  {
   "cell_type": "markdown",
   "metadata": {},
   "source": [
    "## Create all tracks for all playlist in train and test set"
   ]
  },
  {
   "cell_type": "code",
   "execution_count": 9,
   "metadata": {},
   "outputs": [],
   "source": [
    "def create_tracks(X, fst_playlist_df):\n",
    "    for i in range(1, len(X)):\n",
    "        # create df for next playlist\n",
    "        playlist = pd.DataFrame(X.iloc[i]['tracks'])\n",
    "        playlist['playlist_name'] = X.iloc[i]['name']\n",
    "        playlist['playlist_pid'] = X.iloc[i]['pid']\n",
    "\n",
    "        # append subset df of each playlist to the big df\n",
    "        fst_playlist_df = fst_playlist_df.append(playlist)\n",
    "        \n",
    "    return fst_playlist_df"
   ]
  },
  {
   "cell_type": "markdown",
   "metadata": {},
   "source": [
    "## Create tracks dictionary with key = track_uri, and value = [playlist vector , artist_uri]"
   ]
  },
  {
   "cell_type": "code",
   "execution_count": 10,
   "metadata": {},
   "outputs": [],
   "source": [
    "track_dict = {}\n",
    "\n",
    "# X_train is a DataFrame\n",
    "for i in range(len(X_train)):\n",
    "    row = X_train.iloc[i]\n",
    "    playlist_id = row['pid']\n",
    "    \n",
    "    for track in row['tracks']:\n",
    "        song_id = track['track_uri']\n",
    "        song_name = track['track_name']\n",
    "        \n",
    "        if song_id not in track_dict:\n",
    "            track_dict[song_id] = {'name': song_name, 'playlist_vector': []}\n",
    "\n",
    "        track_dict[song_id]['playlist_vector'].append(playlist_id)"
   ]
  },
  {
   "cell_type": "code",
   "execution_count": 11,
   "metadata": {},
   "outputs": [
    {
     "name": "stdout",
     "output_type": "stream",
     "text": [
      "Train set, the numbers of unique tracks in all playlist:  229351\n"
     ]
    }
   ],
   "source": [
    "print('Train set, the numbers of unique tracks in all playlist: ', len(track_dict))"
   ]
  },
  {
   "cell_type": "markdown",
   "metadata": {},
   "source": [
    "## 4.5 Modeling Using Cosine Similarity<a id='4.5_Modeling_Using_Cosine_Similarity'></a>"
   ]
  },
  {
   "cell_type": "markdown",
   "metadata": {},
   "source": [
    "### 4.5.1 The Compressed Dot Product Algorithm <a id='4.5.1_The_Compressed_Dot_Product_Algorithm'></a>"
   ]
  },
  {
   "cell_type": "code",
   "execution_count": 12,
   "metadata": {},
   "outputs": [
    {
     "name": "stdout",
     "output_type": "stream",
     "text": [
      "2\n"
     ]
    }
   ],
   "source": [
    "# The Compressed dot product algorithm is only work for BINARY compressed vector\n",
    "# Ex: compressed vector = [0, 3, 5, 6, 7] <=> Sparse vector = [1, 0, 0, 1, 0, 1, 1, 1]\n",
    "# or compressed([1, 0, 0, 1, 0, 1, 1, 1]) = [0, 3, 5, 6, 7]\n",
    "\n",
    "\n",
    "def compressed_dot_product(v1, v2):\n",
    "    '''\n",
    "    This function calculate the dot product of two sparse vector (with same dimensionality)\n",
    "    @param: \n",
    "        vector1, vector2: list of the playlists that include that track\n",
    "        \n",
    "    @return: the dot product of 2 compressed vectors\n",
    "    '''\n",
    "    matched = 0\n",
    "    n, m = len(v1), len(v2)\n",
    "    #print(f\"N = {n}, M = {m}\")\n",
    "    i , j = 0, 0\n",
    "    \n",
    "    while i < n and j < m: # create two pointers\n",
    "        \n",
    "        if v1[i] == v2[j]:\n",
    "            matched += 1\n",
    "            i += 1\n",
    "            j += 1\n",
    "        elif v1[i] < v2[j]:\n",
    "            i += 1\n",
    "        else:\n",
    "            j += 1\n",
    "        \n",
    "        #print(f\"matched = {matched}\")\n",
    "    \n",
    "    return matched\n",
    "\n",
    "v1 = [0,1,3,5, 10, 100, 999]\n",
    "v2 = [0,5, 13, 207]\n",
    "print(compressed_dot_product(v1, v2))\n",
    "    "
   ]
  },
  {
   "cell_type": "markdown",
   "metadata": {},
   "source": [
    "### 4.5.2 Cosine Similarity Between 2 Songs<a id='4.5.2_Cosine_Similarity_Between_Two_Songs'></a>"
   ]
  },
  {
   "cell_type": "code",
   "execution_count": 13,
   "metadata": {},
   "outputs": [
    {
     "data": {
      "text/plain": [
       "0.3333333333333333"
      ]
     },
     "execution_count": 13,
     "metadata": {},
     "output_type": "execute_result"
    }
   ],
   "source": [
    "from sklearn.metrics.pairwise import cosine_similarity\n",
    "from math import sqrt\n",
    "\n",
    "\n",
    "# v1, v2 are compressed lists that represents sparse vectors \n",
    "# len(compressed(x)) = ||x||^2\n",
    "\n",
    "def compressed_cos_similarity(v1, v2):\n",
    "    return compressed_dot_product(v1, v2) / sqrt(len(v1) * len(v2))\n",
    "\n",
    "compressed_cos_similarity([0,2,4], [0,1,3])"
   ]
  },
  {
   "cell_type": "markdown",
   "metadata": {},
   "source": [
    "Unpopular songs will have higher cosine similarity in general.\n",
    "\n",
    "(\"Using Cosine similarity or Pearson correlation helps to mitigate the bias towards popular items, but can also end up recommending very unpopular, niche items.\" https://medium.com/bag-of-words/what-similarity-metric-should-you-use-for-your-recommendation-system-b45eb7e6ebd0)"
   ]
  },
  {
   "cell_type": "markdown",
   "metadata": {},
   "source": [
    "#### 4.5.2.1 Example<a id='4.5.2.1_Example'></a>\n",
    "Comparing the songs \"Crazy In Love\" and \"Toxic\"."
   ]
  },
  {
   "cell_type": "code",
   "execution_count": 14,
   "metadata": {},
   "outputs": [
    {
     "name": "stdout",
     "output_type": "stream",
     "text": [
      "The cosine similarity of 'crazy in love' and 'toxic' tracks is: 0.012416852662165207\n"
     ]
    }
   ],
   "source": [
    "# Create two vectors of the two songs\n",
    "crazy_in_love = track_dict['spotify:track:0WqIKmW4BTrj3eJFmnCKMv']['playlist_vector']\n",
    "toxic = track_dict['spotify:track:6I9VzXrHxO9rA9A5euc8Ak']['playlist_vector']\n",
    "\n",
    "similarity = compressed_cos_similarity(crazy_in_love, toxic)\n",
    "print(f\"The cosine similarity of 'crazy in love' and 'toxic' tracks is: {similarity}\")"
   ]
  },
  {
   "cell_type": "markdown",
   "metadata": {},
   "source": [
    "Cosine similarity gives a real number ranged [0, 1] indicating how similar two songs are. 0.0 means the songs are in completely different playlists, 1.0 means the songs are included in all the same playlists."
   ]
  },
  {
   "cell_type": "markdown",
   "metadata": {},
   "source": [
    "### 4.5.3 Recommendation Score For A Single Track<a id='4.5.3_Recommendation_Score_For_A_Single_Track'></a>"
   ]
  },
  {
   "cell_type": "code",
   "execution_count": 15,
   "metadata": {},
   "outputs": [],
   "source": [
    "def get_cosines_for_single_track(track_id):\n",
    "    '''\n",
    "    This function get ALL cosine scores of songs that are in same playlist with this single track.\n",
    "    \n",
    "    @param: track_id: a string that contain one SINGLE track_id (ex: \"spotify:track:6I9VzXrHxO9rA9A5euc8Ak\")\n",
    "    @return: dictionary with all keys = track_ids, values = cosine scores\n",
    "    '''\n",
    "    \n",
    "    if track_id not in track_dict:\n",
    "        return {}\n",
    "    \n",
    "    track_vector = track_dict[track_id]['playlist_vector']        #track_dict: only create vector matrix for train data\n",
    "    \n",
    "    track_score_dict = {}\n",
    "    \n",
    "    for playlist_pid in track_vector:\n",
    "        playlist_row = list(X_train.loc[X_train['pid'] == playlist_pid]['tracks'])[0]\n",
    "        \n",
    "        track_list = [track['track_uri'] for track in playlist_row]\n",
    "\n",
    "        # Compare the song to ALL the tracks on each playlist\n",
    "        for item_id in track_list:\n",
    "            track_score_dict[item_id] = compressed_cos_similarity(track_dict[track_id]['playlist_vector'], track_dict[item_id]['playlist_vector'])\n",
    "            \n",
    "    return track_score_dict"
   ]
  },
  {
   "cell_type": "markdown",
   "metadata": {},
   "source": [
    "Helper functions to get a set of recommendations, get track names."
   ]
  },
  {
   "cell_type": "code",
   "execution_count": 16,
   "metadata": {},
   "outputs": [],
   "source": [
    "def get_track_ids(tracks_in_playlist):\n",
    "    '''\n",
    "    @param: \n",
    "        tracks_in_playlist: a \"list\" that only contain track IDs\n",
    "    @ return\n",
    "        track_ids : a list contains all track ids in ONE playlist\n",
    "    '''\n",
    "    track_ids = list() \n",
    "    \n",
    "    for track_id in tracks_in_playlist:\n",
    "        track_ids.append(track_id)\n",
    "    \n",
    "    return track_ids\n",
    "\n",
    "\n",
    "def get_recs_for_playlist(tracks_in_playlist):\n",
    "    '''\n",
    "    @param: \n",
    "        tracks_in_playlist: a \"list\" that only contain track IDs\n",
    "    @return:\n",
    "        track_scores_dict: a \"dictionary\" that has all recommendation songs for all tracks in the playlist \n",
    "    '''\n",
    "    track_scores_dict = {}\n",
    "    track_ids = get_track_ids(tracks_in_playlist)\n",
    "\n",
    "    for track_id in tracks_in_playlist:\n",
    "        single_track_score = get_cosines_for_single_track(track_id)\n",
    "        \n",
    "        #print(f\"Track_id = {track_id}, length = {len(single_track_score)}\")\n",
    "        \n",
    "        for k,v in single_track_score.items():\n",
    "            if k in track_ids:\n",
    "                continue\n",
    "            \n",
    "            if k not in track_scores_dict:\n",
    "                track_scores_dict[k] = v\n",
    "            else:\n",
    "                track_scores_dict[k] = max(track_scores_dict[k], v)\n",
    "    print(len(track_scores_dict))\n",
    "    return track_scores_dict\n",
    "\n",
    "\n",
    "def sorted_cosine_tracks(rec_tracks_dict):\n",
    "    '''\n",
    "    The function sorts cosine similarity scores of the tracks in one playlist\n",
    "    \n",
    "    @param:\n",
    "        rec_tracks_dict: a dict of playlist contain all recommendation songs, key = track_id (in diff playlist)\n",
    "            value = cosine similarity score\n",
    "    @return:\n",
    "        recs_list: a list of sorted recommendation songs based on cosine score (max = 1, min = 0)\n",
    "    '''\n",
    "    recs_list = []\n",
    "\n",
    "    for k in sorted(rec_tracks_dict, key=rec_tracks_dict.get, reverse=True):\n",
    "        recs_list.append((k, rec_tracks_dict[k]))\n",
    "#         recs_list.append(k)\n",
    "\n",
    "    return recs_list\n",
    "\n",
    "def get_n_recommendation_songs_id(tracks_in_playlist, n):\n",
    "    '''\n",
    "    @param: \n",
    "        tracks_in_playlist: a \"list\" that only contain track IDs\n",
    "    @return \n",
    "        recommendation_songs: a list of \"n\" recommendation songs for a single playlist\n",
    "    '''\n",
    "    \n",
    "    rec_tracks_dict = get_recs_for_playlist(tracks_in_playlist)\n",
    "    sorted_tracks_list = sorted_cosine_tracks(rec_tracks_dict)\n",
    "    \n",
    "    # If n < length of recommendation, give n songs, else give the maximum number of songs in the cosine maxtrix\n",
    "    rec_songs_id = sorted_tracks_list[: min(n, len(sorted_tracks_list))]\n",
    "\n",
    "    return rec_songs_id\n",
    "    \n",
    "def get_track_name(track_id, track_dict):\n",
    "    return track_dict[track_id]['name']\n",
    "\n",
    "def train_test_split_tracks(playlist_pid, X_test):\n",
    "    tracks = flatten_playlist(playlist_pid, X_test)\n",
    "    \n",
    "    train, test = train_test_split(tracks, test_size=0.3, random_state=42)\n",
    "\n",
    "    return train, test"
   ]
  },
  {
   "cell_type": "markdown",
   "metadata": {},
   "source": [
    "### 4.5.4 Example: Top 20 Recommended Songs For One Playlist<a id='4.5.4_Example_Top_20_Recommendation_Songs_For_One_Playlist'></a>"
   ]
  },
  {
   "cell_type": "code",
   "execution_count": 17,
   "metadata": {},
   "outputs": [],
   "source": [
    "def flatten_playlist(playlist_pid, df):\n",
    "    # [0] because convert to list, it wrap around with extra '[]'\n",
    "    row = list(df.loc[df['pid'] == playlist_pid]['tracks'])[0]   \n",
    "    \n",
    "    tracks = []\n",
    "    \n",
    "    for item in row:\n",
    "        track_id = item['track_uri']\n",
    "        if track_id not in tracks:\n",
    "            tracks.append(track_id)\n",
    "            \n",
    "    return tracks"
   ]
  },
  {
   "cell_type": "code",
   "execution_count": 19,
   "metadata": {},
   "outputs": [
    {
     "name": "stdout",
     "output_type": "stream",
     "text": [
      "32576\n",
      "32576\n",
      "There are 32576 in \"Country\"\n",
      "The top 20 recommended songs for Country is:\n"
     ]
    },
    {
     "data": {
      "text/plain": [
       "[\"I've Been Known\",\n",
       " 'Front Row Seat',\n",
       " 'Kisses We Steal',\n",
       " \"Hurtin'\",\n",
       " 'Guilty As Can Be',\n",
       " 'Level',\n",
       " 'Good Ole Boys',\n",
       " 'Neon Moon',\n",
       " 'White Trash Story - II (The Deuce)',\n",
       " \"That's My Story\",\n",
       " 'My Kind of Girl',\n",
       " \"This Romeo Ain't Got Julie Yet\",\n",
       " 'Friends In Low Places',\n",
       " \"Crazy Eddie's Last Hurrah (Live)\",\n",
       " 'The Race Is On',\n",
       " 'Cadillac Style',\n",
       " 'Vidalia',\n",
       " \"Let's Get Drunk And Make Friends\",\n",
       " 'Over My Head',\n",
       " \"Drinkin' With Me\"]"
      ]
     },
     "execution_count": 19,
     "metadata": {},
     "output_type": "execute_result"
    }
   ],
   "source": [
    "n = 20\n",
    "throwback_lst_pid = 0\n",
    "country_pid = 456\n",
    "\n",
    "# playlist = df[df['pid'] == country_pid].iloc[0]['tracks']\n",
    "tracks_in_playlist = flatten_playlist(country_pid, df)\n",
    "playlist_name = df[df['pid'] == country_pid].iloc[0]['name']\n",
    "\n",
    "rec_tracks_dict = get_recs_for_playlist(tracks_in_playlist)\n",
    "rec_songs = [r[0] for r in get_n_recommendation_songs_id(tracks_in_playlist, n)]\n",
    "rec_song_names = [get_track_name(rec_song, track_dict) for rec_song in rec_songs]\n",
    "\n",
    "print(f\"There are {len(rec_tracks_dict)} in \\\"{playlist_name}\\\"\")\n",
    "print(f\"The top {n} recommended songs for {playlist_name} is:\")\n",
    "rec_song_names"
   ]
  },
  {
   "cell_type": "markdown",
   "metadata": {},
   "source": [
    "## 4.6 Metrics & Evaluation<a id='4.6_Metrics_and_Evaluation'></a>"
   ]
  },
  {
   "cell_type": "markdown",
   "metadata": {},
   "source": [
    "### 4.6.1 R-Precision<a id='4.6.1_R_Precision'></a>"
   ]
  },
  {
   "cell_type": "code",
   "execution_count": 20,
   "metadata": {},
   "outputs": [],
   "source": [
    "# Precision for one playlist (model: Cosine similarity)\n",
    "def get_r_precision_for_pid(playlist_pid):\n",
    "    test_name = list(X_test.loc[X_test['pid'] == playlist_pid]['name'])[0]\n",
    "    \n",
    "    shown, hidden = train_test_split_tracks(playlist_pid, X_test)\n",
    "    \n",
    "    # Recommendation songs n = test_size * 15\n",
    "    n = len(hidden) * 15\n",
    "    \n",
    "    recs_for_playlist = [r[0] for r in get_n_recommendation_songs_id(shown, n)]\n",
    "    \n",
    "    return r_precision(set(recs_for_playlist), set(hidden))"
   ]
  },
  {
   "cell_type": "code",
   "execution_count": 21,
   "metadata": {},
   "outputs": [
    {
     "name": "stdout",
     "output_type": "stream",
     "text": [
      "31847\n"
     ]
    },
    {
     "data": {
      "text/plain": [
       "0.0"
      ]
     },
     "execution_count": 21,
     "metadata": {},
     "output_type": "execute_result"
    }
   ],
   "source": [
    "get_r_precision_for_pid(5897)"
   ]
  },
  {
   "cell_type": "code",
   "execution_count": 22,
   "metadata": {},
   "outputs": [
    {
     "data": {
      "text/plain": [
       "'\\n# This return the r-precision for all the playlists in the test set --> report this one\\ntotal_precision = 0\\nn = 0\\nfor pid in X_test[\\'pid\\'].unique():\\n    \\n    total_precision += get_r_precision_for_pid(pid)\\n    n += 1\\n    \\n    print(f\"n: {n}, pid: {pid}, average_precision: {total_precision / n}\")\\n    \\navg = total_precision / n\\n'"
      ]
     },
     "execution_count": 22,
     "metadata": {},
     "output_type": "execute_result"
    }
   ],
   "source": [
    "'''\n",
    "# This return the r-precision for all the playlists in the test set --> report this one\n",
    "total_precision = 0\n",
    "n = 0\n",
    "for pid in X_test['pid'].unique():\n",
    "    \n",
    "    total_precision += get_r_precision_for_pid(pid)\n",
    "    n += 1\n",
    "    \n",
    "    print(f\"n: {n}, pid: {pid}, average_precision: {total_precision / n}\")\n",
    "    \n",
    "avg = total_precision / n\n",
    "'''"
   ]
  },
  {
   "cell_type": "markdown",
   "metadata": {},
   "source": [
    "<img src=\"image/cosine-similarity-precision.png\" style=\"height=200, width=200\">"
   ]
  },
  {
   "cell_type": "markdown",
   "metadata": {},
   "source": [
    "### 4.6.2 Song Clicks<a id='4.6.2_Song_Clicks'></a>"
   ]
  },
  {
   "cell_type": "code",
   "execution_count": 23,
   "metadata": {},
   "outputs": [],
   "source": [
    "def recs_songs_click(R, G):\n",
    "    '''\n",
    "     Recommendation Songs Clicks: measure the index of the first correct recommendation track.\n",
    "        @param: \n",
    "            R: a 'list' of recommendation songs for the playlist giving some seen tracks\n",
    "            G: a 'set' of the hidden of tracks in the playlist (in the test set)\n",
    "        @ return: the recommendation songs click value for a given playlist playlist\n",
    "    '''\n",
    "    # If no songs that we recommends are not in hidden tracks of the playlist, return click = 51\n",
    "    clicks = 51\n",
    "    \n",
    "    for i in range(len(R)):\n",
    "        if R[i] in G:\n",
    "            print(f'HOORAY find it i = {i}')\n",
    "            return i / 10\n",
    "        \n",
    "    return clicks"
   ]
  },
  {
   "cell_type": "code",
   "execution_count": 24,
   "metadata": {},
   "outputs": [],
   "source": [
    "# Song Click for one playlist\n",
    "def get_recs_songs_clicks_for_pid(test_pid):\n",
    "    test_name = list(X_test.loc[X_test['pid'] == test_pid]['name'])[0]\n",
    "    \n",
    "    shown, hidden = train_test_split_tracks(test_pid, X_test)\n",
    "    \n",
    "    # Recommendation songs n = test_size * 15\n",
    "    n = len(hidden) * 15\n",
    "    \n",
    "    recs_for_playlist = [r[0] for r in get_n_recommendation_songs_id(shown, n)]\n",
    "    \n",
    "    return recs_songs_click(recs_for_playlist, set(hidden))"
   ]
  },
  {
   "cell_type": "code",
   "execution_count": 25,
   "metadata": {},
   "outputs": [
    {
     "data": {
      "text/plain": [
       "'\\n# This return the average recommendation songs clicks for all the playlists in the test set --> report this one\\ntotal_clicks = 0\\nn = 0\\nfor pid in X_test[\\'pid\\'].unique():\\n    \\n    total_clicks += get_recs_songs_clicks_for_pid(pid)\\n    n += 1\\n    \\n    print(f\"n: {n}, avg_clicks: {total_clicks / n}\")\\n    \\navg_recs_songs_clicks = total_clicks / n\\n'"
      ]
     },
     "execution_count": 25,
     "metadata": {},
     "output_type": "execute_result"
    }
   ],
   "source": [
    "'''\n",
    "# This return the average recommendation songs clicks for all the playlists in the test set --> report this one\n",
    "total_clicks = 0\n",
    "n = 0\n",
    "for pid in X_test['pid'].unique():\n",
    "    \n",
    "    total_clicks += get_recs_songs_clicks_for_pid(pid)\n",
    "    n += 1\n",
    "    \n",
    "    print(f\"n: {n}, avg_clicks: {total_clicks / n}\")\n",
    "    \n",
    "avg_recs_songs_clicks = total_clicks / n\n",
    "'''"
   ]
  },
  {
   "cell_type": "code",
   "execution_count": 26,
   "metadata": {},
   "outputs": [],
   "source": [
    "# print(f'The average recommendation Songs Clicks for all playlist in test set is: {avg_recs_songs_clicks}')"
   ]
  },
  {
   "cell_type": "markdown",
   "metadata": {},
   "source": [
    "<img src=\"image/cosine-similarity-recommendation_song_clicks.png\" style=\"height=200, width=200\">"
   ]
  },
  {
   "cell_type": "markdown",
   "metadata": {},
   "source": [
    "### 4.6.3 Normalized Discounted Cumulative Gain (NDCG)<a id='4.6.3_Normalized_Discounted_Cumulative_Gain'></a>"
   ]
  },
  {
   "cell_type": "code",
   "execution_count": 28,
   "metadata": {},
   "outputs": [
    {
     "name": "stdout",
     "output_type": "stream",
     "text": [
      "31847\n"
     ]
    },
    {
     "data": {
      "text/plain": [
       "0.010594662831891212"
      ]
     },
     "execution_count": 28,
     "metadata": {},
     "output_type": "execute_result"
    }
   ],
   "source": [
    "# NDCG for one playlist\n",
    "def get_NDCG_for_pid(test_pid):\n",
    "    test_name = list(X_test.loc[X_test['pid'] == test_pid]['name'])[0]\n",
    "    \n",
    "    shown, hidden = train_test_split_tracks(test_pid, X_test)\n",
    "    \n",
    "    # Recommendation songs n = test_size * 15\n",
    "    n = len(hidden) * 15\n",
    "    \n",
    "    recs_for_playlist = get_n_recommendation_songs_id(shown, n)\n",
    "#     print(recs_for_playlist)\n",
    "    return NDCG(recs_for_playlist, set(hidden))\n",
    "get_NDCG_for_pid(5897)"
   ]
  },
  {
   "cell_type": "code",
   "execution_count": 2,
   "metadata": {},
   "outputs": [
    {
     "data": {
      "text/plain": [
       "'\\ntotal_NDCG = 0.0\\nn = 0\\nfor pid in X_test[\\'pid\\'].unique():\\n    total_NDCG += get_recs_songs_clicks_for_pid(pid)\\n    n += 1\\n    \\n    print(f\"n: {n}, avg_NDCG: {total_NDCG / n}\")\\n    \\navg_recs_NDCG = total_NDCG / n\\n'"
      ]
     },
     "execution_count": 2,
     "metadata": {},
     "output_type": "execute_result"
    }
   ],
   "source": [
    "# Calculate the average Normalized Discount Cumulative Gain for the test set\n",
    "total_NDCG = 0.0\n",
    "n = 0\n",
    "for pid in X_test['pid'].unique():\n",
    "    total_NDCG += get_recs_songs_clicks_for_pid(pid)\n",
    "    n += 1\n",
    "    \n",
    "    print(f\"n: {n}, avg_NDCG: {total_NDCG / n}\")\n",
    "    \n",
    "avg_recs_NDCG = total_NDCG / n"
   ]
  },
  {
   "cell_type": "markdown",
   "metadata": {},
   "source": [
    "<img src=\"image/cosine-similarity-NDCG.png\">"
   ]
  },
  {
   "cell_type": "code",
   "execution_count": null,
   "metadata": {},
   "outputs": [],
   "source": []
  }
 ],
 "metadata": {
  "kernelspec": {
   "display_name": "Python 3",
   "language": "python",
   "name": "python3"
  },
  "language_info": {
   "codemirror_mode": {
    "name": "ipython",
    "version": 3
   },
   "file_extension": ".py",
   "mimetype": "text/x-python",
   "name": "python",
   "nbconvert_exporter": "python",
   "pygments_lexer": "ipython3",
   "version": "3.8.3"
  }
 },
 "nbformat": 4,
 "nbformat_minor": 4
}
